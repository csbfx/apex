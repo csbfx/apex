{
  "nbformat": 4,
  "nbformat_minor": 0,
  "metadata": {
    "colab": {
      "provenance": [],
      "include_colab_link": true
    },
    "kernelspec": {
      "display_name": "Python 3",
      "language": "python",
      "name": "python3"
    },
    "language_info": {
      "codemirror_mode": {
        "name": "ipython",
        "version": 3
      },
      "file_extension": ".py",
      "mimetype": "text/x-python",
      "name": "python",
      "nbconvert_exporter": "python",
      "pygments_lexer": "ipython3",
      "version": "3.7.6"
    }
  },
  "cells": [
    {
      "cell_type": "markdown",
      "metadata": {
        "id": "view-in-github",
        "colab_type": "text"
      },
      "source": [
        "<a href=\"https://colab.research.google.com/github/csbfx/apex/blob/main/Answer_Key_APEX_Bioinformatics_Sickle_Cell_Anemia.ipynb\" target=\"_parent\"><img src=\"https://colab.research.google.com/assets/colab-badge.svg\" alt=\"Open In Colab\"/></a>"
      ]
    },
    {
      "cell_type": "markdown",
      "metadata": {
        "id": "-IJR_ISEmvhY"
      },
      "source": [
        "# Exploring Bioinformatics with Python Programming: A Case Study on Sickle Cell Anemia: KEY\n",
        "\n",
        "---\n",
        "\n",
        "\n",
        "\n",
        "---\n",
        "\n",
        "\n",
        "\n",
        "---\n",
        "\n",
        "\n",
        "\n",
        "---\n",
        "\n",
        "\n",
        "\n",
        "---\n",
        "\n",
        "\n",
        "\n",
        "---\n",
        "\n",
        "\n",
        "\n",
        "---\n",
        "\n",
        "\n",
        "\n",
        "---\n",
        "\n",
        "\n",
        "\n",
        "---\n",
        "\n",
        "\n",
        "#### Created by Wendy Lee, Akiko Balitactac, Inika Bhatia, Valerie Carr, and Morris Jones, Jennifer Avena.\n",
        "#### Last updated: March 24, 2022\n",
        "#### Licensed under CC BY-NC-SA\n",
        "\n",
        "\n",
        "### The programming excerises in this module are designed to meet the following learning objectives. Upon successful completion of the course, students will be able to:\n",
        "  1. Using computing, determine the RNA and protein sequence from the DNA sequence of a gene, and compare gene sequences.\n",
        "  2. Using computing, locate a specific region within the sequence of a gene.\n",
        "  3. Predict the effects of mutations on protein function.\n"
      ]
    },
    {
      "cell_type": "markdown",
      "source": [
        "# Exercise 1 - Analyze Gene Sequences"
      ],
      "metadata": {
        "id": "ysZhf3UgbxaD"
      }
    },
    {
      "cell_type": "code",
      "metadata": {
        "id": "DxtCppcqDztt",
        "colab": {
          "base_uri": "https://localhost:8080/"
        },
        "outputId": "eef5360c-5c99-4a88-e2df-eecf234d325b"
      },
      "source": [
        "kevin_cds = \"ATGGTGCATCTGACTCCTGTGGAGAAGTCTGCCGTTACTGCCCTGTGGGGCAAGGTGAACGTGGATGAAG\"\n",
        "kevin_rna = kevin_cds.replace(\"T\", \"U\")\n",
        "print(\"Kevin's rna:\", kevin_rna)"
      ],
      "execution_count": null,
      "outputs": [
        {
          "output_type": "stream",
          "name": "stdout",
          "text": [
            "Kevin's rna: AUGGUGCAUCUGACUCCUGUGGAGAAGUCUGCCGUUACUGCCCUGUGGGGCAAGGUGAACGUGGAUGAAG\n"
          ]
        }
      ]
    },
    {
      "cell_type": "code",
      "metadata": {
        "id": "sWXsToK3v0Vj",
        "colab": {
          "base_uri": "https://localhost:8080/"
        },
        "outputId": "1687ba33-eddb-437b-ab59-d863b6614cfa"
      },
      "source": [
        "will_cds = \"ATGGTGCATCTGACTCCTGAGGAGAAGTCTGCCGTTACTGCCCTGTGGGGCAAGGTGAACGTGGATGAAG\"\n",
        "# indicate your command here to replace coding strand T's with RNA U's\n",
        "\n",
        "will_rna = will_cds.replace(\"T\", \"U\")\n",
        "\n",
        "# indicate a command here to display (i.e., \"print\") the RNA sequence\n",
        "\n",
        "print(\"Will's rna:\", will_rna)\n"
      ],
      "execution_count": null,
      "outputs": [
        {
          "output_type": "stream",
          "name": "stdout",
          "text": [
            "Will's rna: AUGGUGCAUCUGACUCCUGAGGAGAAGUCUGCCGUUACUGCCCUGUGGGGCAAGGUGAACGUGGAUGAAG\n"
          ]
        }
      ]
    },
    {
      "cell_type": "code",
      "metadata": {
        "id": "NvqleF9voZt3",
        "colab": {
          "base_uri": "https://localhost:8080/"
        },
        "outputId": "826f4e87-bb43-4f7d-e215-20742f63927e"
      },
      "source": [
        "# Translate DNA sequence to amino acid sequence\n",
        "\n",
        "def translate(seq):\n",
        "    \"\"\"Translate a DNA sequence to an amino acid sequence.\"\"\"\n",
        "\n",
        "    # the following is a Python dictionary that stores\n",
        "    # the codons and amino acids as key-value pairs.\n",
        "    geneticode = {\n",
        "    'ATA':'I', 'ATC':'I', 'ATT':'I', 'ATG':'M',\n",
        "    'ACA':'T', 'ACC':'T', 'ACG':'T', 'ACT':'T',\n",
        "    'AAC':'N', 'AAT':'N', 'AAA':'K', 'AAG':'K',\n",
        "    'AGC':'S', 'AGT':'S', 'AGA':'R', 'AGG':'R',\n",
        "    'CTA':'L', 'CTC':'L', 'CTG':'L', 'CTT':'L',\n",
        "    'CCA':'P', 'CCC':'P', 'CCG':'P', 'CCT':'P',\n",
        "    'CAC':'H', 'CAT':'H', 'CAA':'Q', 'CAG':'Q',\n",
        "    'CGA':'R', 'CGC':'R', 'CGG':'R', 'CGT':'R',\n",
        "    'GTA':'V', 'GTC':'V', 'GTG':'V', 'GTT':'V',\n",
        "    'GCA':'A', 'GCC':'A', 'GCG':'A', 'GCT':'A',\n",
        "    'GAC':'D', 'GAT':'D', 'GAA':'E', 'GAG':'E',\n",
        "    'GGA':'G', 'GGC':'G', 'GGG':'G', 'GGT':'G',\n",
        "    'TCA':'S', 'TCC':'S', 'TCG':'S', 'TCT':'S',\n",
        "    'TTC':'F', 'TTT':'F', 'TTA':'L', 'TTG':'L',\n",
        "    'TAC':'Y', 'TAT':'Y', 'TAA':'*', 'TAG':'*',\n",
        "    'TGC':'C', 'TGT':'C', 'TGA':'*', 'TGG':'W',\n",
        "    }\n",
        "\n",
        "    length = len(seq)\n",
        "\n",
        "    # Save the amino acid sequence in a list called protein\n",
        "    protein = []\n",
        "    for pos in range(0,length-2,3):\n",
        "        codon = seq[pos:pos+3]\n",
        "        # Get the appropriate amino acid from the dictionary\n",
        "        aa = geneticode[codon]\n",
        "        protein.append(aa)\n",
        "        if aa == \"*\": # when we see a stop codon \"*\"\n",
        "            return \"\".join(protein) # return the protein sequence\n",
        "    # return the protein sequence when we finish processing all the codons\n",
        "    return \"\".join(protein)\n",
        "\n",
        "\n",
        "# Main program\n",
        "will_cds = \"ATGGTGCATCTGACTCCTGAGGAGAAGTCTGCCGTTACTGCCCTGTGGGGCAAGGTGAACGTGGATGAAG\"\n",
        "will_protein = translate(will_cds)\n",
        "print(\"Will's protein sequence: \" + will_protein)"
      ],
      "execution_count": null,
      "outputs": [
        {
          "output_type": "stream",
          "name": "stdout",
          "text": [
            "Will's protein sequence: MVHLTPEEKSAVTALWGKVNVDE\n"
          ]
        }
      ]
    },
    {
      "cell_type": "code",
      "metadata": {
        "id": "wGrqYQ2cxC2_",
        "colab": {
          "base_uri": "https://localhost:8080/"
        },
        "outputId": "8ca8739d-bb38-4115-a18d-a05c3400a96b"
      },
      "source": [
        "# Call the function below for kevin_cds to get the protein sequence\n",
        "kevin_cds = \"ATGGTGCATCTGACTCCTGTGGAGAAGTCTGCCGTTACTGCCCTGTGGGGCAAGGTGAACGTGGATGAAG\"\n",
        "#indicate your command here to translate the coding sequence\n",
        "\n",
        "kevin_protein = translate(kevin_cds)\n",
        "\n",
        "#indicate a command here to display (i.e., \"print\") the protein sequence\n",
        "\n",
        "print(\"Kevin's protein sequence: \" + kevin_protein)\n"
      ],
      "execution_count": null,
      "outputs": [
        {
          "output_type": "stream",
          "name": "stdout",
          "text": [
            "Kevin's protein sequence: MVHLTPVEKSAVTALWGKVNVDE\n"
          ]
        }
      ]
    },
    {
      "cell_type": "markdown",
      "metadata": {
        "id": "SlwCjC8GRwp2"
      },
      "source": [
        "## Check-in Questions\n",
        "\n",
        "Instructions: Edit this text cell to respond to the following questions:\n",
        "\n",
        "The sequences above were part of the coding sequence, meaning only nucleotides that will be coded into protein.  Based on your understanding of gene structure, indicate whether this coding sequence consists of sequence from exons, or introns, or both.\n",
        "\n",
        "*   The sequence consists only of exons.\n",
        "\n",
        "The sequences above began with the start codon.  Why is it important to know where the start codon is located? How does this help us when we determine the protein sequence for a gene?\n",
        "\n",
        "*   The start codon indicates the first codon of the gene that will be translated.\n",
        "\n"
      ]
    },
    {
      "cell_type": "markdown",
      "metadata": {
        "id": "TD4xybC6-UlY"
      },
      "source": [
        "----\n",
        "# Exercise 2 - Analyze DNA sequences: Identify the first start codon \"ATG\" in the DNA sequence\n",
        "\n"
      ]
    },
    {
      "cell_type": "code",
      "metadata": {
        "id": "bwWY4-BISZHb",
        "colab": {
          "base_uri": "https://localhost:8080/"
        },
        "outputId": "229baebe-1b8f-4b1c-9ac0-7696e2895481"
      },
      "source": [
        "molly_dna = \"AACAGACACCATGGTGCATCTGACTCCTGAAGAGAAGTCTGCCGTTACTGCCCTGTGGGGCAAGGTGAACGTGGATGAAG\"\n",
        "pos = molly_dna.find(\"ATG\") # Finds the index of the first \"ATG\" in the above dna sequence\n",
        "print(\"Molly's ATG is at position\", pos)"
      ],
      "execution_count": null,
      "outputs": [
        {
          "output_type": "stream",
          "name": "stdout",
          "text": [
            "Molly's ATG is at position 10\n"
          ]
        }
      ]
    },
    {
      "cell_type": "code",
      "metadata": {
        "id": "eLX_fs8050SJ",
        "colab": {
          "base_uri": "https://localhost:8080/"
        },
        "outputId": "417b1505-337f-416b-b12a-5c582b1477be"
      },
      "source": [
        "print(molly_dna)\n",
        "print(\" \"*pos + \"***\") # here we print an empty space followed by a \"***\" symbol"
      ],
      "execution_count": null,
      "outputs": [
        {
          "output_type": "stream",
          "name": "stdout",
          "text": [
            "AACAGACACCATGGTGCATCTGACTCCTGAAGAGAAGTCTGCCGTTACTGCCCTGTGGGGCAAGGTGAACGTGGATGAAG\n",
            "          ***\n"
          ]
        }
      ]
    },
    {
      "cell_type": "code",
      "metadata": {
        "id": "kF71z3Gcj4mh",
        "colab": {
          "base_uri": "https://localhost:8080/"
        },
        "outputId": "214889a7-9811-4ab4-8538-3adc5fd59bda"
      },
      "source": [
        "molly_cds = molly_dna[pos:]\n",
        "print(\"Molly's coding sequence: \" + molly_cds)"
      ],
      "execution_count": null,
      "outputs": [
        {
          "output_type": "stream",
          "name": "stdout",
          "text": [
            "Molly's coding sequence: ATGGTGCATCTGACTCCTGAAGAGAAGTCTGCCGTTACTGCCCTGTGGGGCAAGGTGAACGTGGATGAAG\n"
          ]
        }
      ]
    },
    {
      "cell_type": "markdown",
      "metadata": {
        "id": "uVR9gQHATSJv"
      },
      "source": [
        "## Check-in Questions\n",
        "\n",
        "Instructions: Edit this text cell to respond to the following questions:\n",
        "\n",
        "At what position was the start codon in Molly's DNA?\n",
        "\n",
        "*   It began at Position 10 in the string, so it would start at the 11th nucleotide in the given DNA sequence.\n",
        "\n",
        "When examining genetic information, what other useful features could you identify in a sequence using the .find() code?\n",
        "\n",
        "*   The python .find() method can be useful for finding certain gene sequences, such as a stop codon or certain consensus sequences (such as the TATA box in the promoter or a splice site consensus sequence)."
      ]
    },
    {
      "cell_type": "markdown",
      "metadata": {
        "id": "xFOykJsY5dW7"
      },
      "source": [
        "----\n",
        "# Exercise 3 - Pairwise sequence comparisons\n",
        "\n",
        "\n",
        "## Exercise 3A - Pairwise Comparison with Known Wild-type Sequence\n"
      ]
    },
    {
      "cell_type": "code",
      "metadata": {
        "id": "akzNYuAnayHZ"
      },
      "source": [
        "# Insert the wild type sequence\n",
        "\n",
        "wildtype_cds = \"ATGGTGCATCTGACTCCTGAGGAGAAGTCTGCCGTTACTGCCCTGTGGGGCAAGGTGAACGTGGATGAAG\""
      ],
      "execution_count": null,
      "outputs": []
    },
    {
      "cell_type": "code",
      "metadata": {
        "id": "8EXq3rXSakEc",
        "colab": {
          "base_uri": "https://localhost:8080/"
        },
        "outputId": "f4d151cb-8eed-4339-d3ce-47ac32222335"
      },
      "source": [
        "# Comparing wild-type HBB coding sequence to Will's DNA sequence\n",
        "will_cds = \"ATGGTGCATCTGACTCCTGAGGAGAAGTCTGCCGTTACTGCCCTGTGGGGCAAGGTGAACGTGGATGAAG\"\n",
        "wildtype_cds = \"ATGGTGCATCTGACTCCTGAGGAGAAGTCTGCCGTTACTGCCCTGTGGGGCAAGGTGAACGTGGATGAAG\"\n",
        "\n",
        "# We will print a \".\" symbol between Will's dna and wild type sequence at the position where the bases are different\n",
        "# If the bases are the same between the two sequences, we will put a \"|\" symbol in between the two sequences.\n",
        "\n",
        "symbol = \"\" # create a new empty string to hold the symbols to indicate if the bases are identical or not\n",
        "for i in range(len(will_cds)): # going through the sequence base by base\n",
        "    if will_cds[i]==wildtype_cds[i]: # check to see if the bases are different\n",
        "        symbol += \"|\" # add | if the nucleotides between the two sequences are the same\n",
        "    else:\n",
        "        symbol += \".\" # add . if the nucleotides between the two sequences are not the same\n",
        "\n",
        "print(\"{}\\n{}\\n{}\".format(will_cds,symbol,wildtype_cds))"
      ],
      "execution_count": null,
      "outputs": [
        {
          "output_type": "stream",
          "name": "stdout",
          "text": [
            "ATGGTGCATCTGACTCCTGAGGAGAAGTCTGCCGTTACTGCCCTGTGGGGCAAGGTGAACGTGGATGAAG\n",
            "||||||||||||||||||||||||||||||||||||||||||||||||||||||||||||||||||||||\n",
            "ATGGTGCATCTGACTCCTGAGGAGAAGTCTGCCGTTACTGCCCTGTGGGGCAAGGTGAACGTGGATGAAG\n"
          ]
        }
      ]
    },
    {
      "cell_type": "markdown",
      "metadata": {
        "id": "15u0jKjn1Xwp"
      },
      "source": [
        "## Exercise 3A Question\n",
        "\n",
        "Does Will's sequence match the wild-type sequence?\n",
        "\n",
        "*   Yes, Will's sequence matches the wild-type sequence.\n"
      ]
    },
    {
      "cell_type": "markdown",
      "metadata": {
        "id": "D-tB3YmJnLD6"
      },
      "source": [
        "#Pairwise Comparisons between Sibling DNA\n",
        "Now that we have identified that Will's beta-globin DNA sequence matches the wild-type sequence, we will perform two pairwise sequence comparison's to compare Will's DNA and protein to Kevin and then to Molly's."
      ]
    },
    {
      "cell_type": "markdown",
      "metadata": {
        "id": "u6XWHhO8lCpQ"
      },
      "source": [
        "# Exercise 3B - Pairwise Comparison 1\n",
        "\n"
      ]
    },
    {
      "cell_type": "code",
      "metadata": {
        "id": "nJ9kk3wK8MNp",
        "colab": {
          "base_uri": "https://localhost:8080/"
        },
        "outputId": "1d70dcd0-5de5-4a59-b483-53d16f0fea81"
      },
      "source": [
        "will_cds = \"ATGGTGCATCTGACTCCTGAGGAGAAGTCTGCCGTTACTGCCCTGTGGGGCAAGGTGAACGTGGATGAAG\"\n",
        "kevin_cds = \"ATGGTGCATCTGACTCCTGTGGAGAAGTCTGCCGTTACTGCCCTGTGGGGCAAGGTGAACGTGGATGAAG\"\n",
        "\n",
        "# We will print a \".\" symbol between Will and Kevin's dna at the position where the bases are different\n",
        "# If the bases are the same between the two sequences, we will put a \"|\" symbol in between the two sequences.\n",
        "\n",
        "symbol = \"\" # create a new empty string to hold the symbols to indicate if the bases are identical or not\n",
        "for i in range(len(will_cds)): # going through the sequence base by base\n",
        "    if will_cds[i]==kevin_cds[i]: # check to see if the bases are different\n",
        "        symbol += \"|\" # add | if the nucleotides between the two sequences are the same\n",
        "    else:\n",
        "        symbol += \".\" # add . if the nucleotides between the two sequences are not the same\n",
        "\n",
        "print(\"{}\\n{}\\n{}\".format(will_cds,symbol,kevin_cds))"
      ],
      "execution_count": null,
      "outputs": [
        {
          "output_type": "stream",
          "name": "stdout",
          "text": [
            "ATGGTGCATCTGACTCCTGAGGAGAAGTCTGCCGTTACTGCCCTGTGGGGCAAGGTGAACGTGGATGAAG\n",
            "|||||||||||||||||||.||||||||||||||||||||||||||||||||||||||||||||||||||\n",
            "ATGGTGCATCTGACTCCTGTGGAGAAGTCTGCCGTTACTGCCCTGTGGGGCAAGGTGAACGTGGATGAAG\n"
          ]
        }
      ]
    },
    {
      "cell_type": "code",
      "metadata": {
        "id": "ZiLXg2FVS9p9",
        "colab": {
          "base_uri": "https://localhost:8080/"
        },
        "outputId": "edf84c99-e7c7-4aca-e913-0607fa1ccb57"
      },
      "source": [
        "# First, use the translate() function to translate both Will and Kevin's DNA sequences. Then, compare their two sequences and\n",
        "# insert a symbol wherever a protein is different, just like the previous code cell.\n",
        "will_protein = translate(will_cds)\n",
        "kevin_protein = translate(kevin_cds)\n",
        "\n",
        "# symbol holds the symbol that indicates whether the nucleotides are the same or different between the two sequence.\n",
        "symbol = \" \"*17 # create a string with 17 spaces\n",
        "for i in range(len(will_protein)): # going through the sequence amino acid by amino acid\n",
        "    if will_protein[i]==kevin_protein[i]: # check to see if the amino acids are different\n",
        "        symbol += \"|\" # add | if the amino acid between the two sequences are the same\n",
        "    else:\n",
        "        symbol += \".\" # add . if the amino acid between the two sequences are not the same\n",
        "print(\"Will's protein:  {}\\n{}\\nKevin's protein: {}\".format(will_protein,symbol,kevin_protein))\n"
      ],
      "execution_count": null,
      "outputs": [
        {
          "output_type": "stream",
          "name": "stdout",
          "text": [
            "Will's protein:  MVHLTPEEKSAVTALWGKVNVDE\n",
            "                 ||||||.||||||||||||||||\n",
            "Kevin's protein: MVHLTPVEKSAVTALWGKVNVDE\n"
          ]
        }
      ]
    },
    {
      "cell_type": "markdown",
      "metadata": {
        "id": "Gr3DeIvYkeUv"
      },
      "source": [
        "## Exercise 3B Questions\n",
        "\n",
        "Instructions: Edit this text cell to respond to the following questions:\n",
        "\n",
        "For Will and Kevin, are their DNA sequences the same?\n",
        "\n",
        "*   No, their sequences are not the same.\n",
        "\n",
        "What type of mutation does Kevin have?\n",
        "\n",
        "*   Kevin has a point mutation, specifically a single base pair substitution of the 20th nucleotide in the coding sequence from an A to a T.  This is specifically a missense mutation since it leads to a different amino acid.\n",
        "\n",
        "\n",
        "What effect does this mutation have on Kevin's protein sequence?\n",
        "\n",
        "*   This mutation in Kevin’s DNA sequence leads to an altered protein sequence, in which an E (as seen in the wild-type sequence) is replaced with a V.\n",
        "\n",
        "\n",
        "What effect does this mutation have on Kevin's protein function?\n",
        "\n",
        "*   By changing his beta-globin protein sequence, the protein structure may be altered, and thus Kevin’s beta-globin protein function may differ from that of the wild-type version.\n",
        "\n",
        "\n",
        "Explain why this mutation can lead to the symptoms of sickle cell anemia Kevin displays.\n",
        "\n",
        "*   Note from the introduction to sickle cell anemia in this activity, that this specific mutation - an A to a T at the 20th nucleotide in the coding sequence leading to a change from a glutamic acid (E) to a valine (V) in the protein sequence - is the one seen in sickle cell anemia.  Even though only a single nucleotide was altered, the structure and function of the protein was affected.  This means that the beta-globin protein won’t function typically, leading to a dysfunctional hemoglobin and thus a dysfunctional red blood cell. This change in red blood cells reduces the cell’s ability to carry oxygen to cells in the body.\n"
      ]
    },
    {
      "cell_type": "markdown",
      "metadata": {
        "id": "ZXZGHmFIUaSO"
      },
      "source": [
        "# Exercise 3C - Pairwise Comparison 2\n"
      ]
    },
    {
      "cell_type": "code",
      "metadata": {
        "id": "do1gK3FRUywy",
        "colab": {
          "base_uri": "https://localhost:8080/"
        },
        "outputId": "7b7a1398-3033-4a61-d3f6-6e9ef7ba3b2a"
      },
      "source": [
        "will_cds = \"ATGGTGCATCTGACTCCTGAGGAGAAGTCTGCCGTTACTGCCCTGTGGGGCAAGGTGAACGTGGATGAAG\"\n",
        "molly_cds = \"ATGGTGCATCTGACTCCTGAAGAGAAGTCTGCCGTTACTGCCCTGTGGGGCAAGGTGAACGTGGATGAAG\"\n",
        "\n",
        "# We will print a \".\" symbol between Will and Molly's dna at the position where the bases are different\n",
        "# If the bases are the same between the two sequences, we will put a \"|\" symbol in between the two sequences.\n",
        "\n",
        "symbol = \"\" # create a new empty string to hold the symbols to indicate if the bases are identical or not\n",
        "for i in range(len(will_cds)): # going through the sequence base by base\n",
        "    if will_cds[i]==molly_cds[i]: # check to see if the bases are different\n",
        "        symbol += \"|\" # add | if the nucleotides between the two sequences are the same\n",
        "    else:\n",
        "        symbol += \".\" # add . if the nucleotides between the two sequenes are not the same\n",
        "\n",
        "print(\"{}\\n{}\\n{}\".format(will_cds,symbol,molly_cds))\n",
        "\n",
        "# Now, translate both of their DNA sequences\n",
        "will_protein = translate(will_cds)\n",
        "molly_protein = translate(molly_cds)\n",
        "\n",
        "symbol = \" \"*17 # create a string with 17 spaces\n",
        "for i in range(len(will_protein)): # going through the sequence amino acid by amino acid\n",
        "    if will_protein[i]==molly_protein[i]: # check to see if the amino acids are different\n",
        "        symbol += \"|\" # add | if the amino acid between the two sequences are the same\n",
        "    else:\n",
        "        symbol += \".\" # add . if the amino acid between the two sequences are not the same\n",
        "print(\"\\nWill's  protein: {}\\n{}\\nMolly's protein: {}\".format(will_protein,symbol,molly_protein))"
      ],
      "execution_count": null,
      "outputs": [
        {
          "output_type": "stream",
          "name": "stdout",
          "text": [
            "ATGGTGCATCTGACTCCTGAGGAGAAGTCTGCCGTTACTGCCCTGTGGGGCAAGGTGAACGTGGATGAAG\n",
            "||||||||||||||||||||.|||||||||||||||||||||||||||||||||||||||||||||||||\n",
            "ATGGTGCATCTGACTCCTGAAGAGAAGTCTGCCGTTACTGCCCTGTGGGGCAAGGTGAACGTGGATGAAG\n",
            "\n",
            "Will's  protein: MVHLTPEEKSAVTALWGKVNVDE\n",
            "                 |||||||||||||||||||||||\n",
            "Molly's protein: MVHLTPEEKSAVTALWGKVNVDE\n"
          ]
        }
      ]
    },
    {
      "cell_type": "markdown",
      "metadata": {
        "id": "KuiGpRLVVmfS"
      },
      "source": [
        "## Exercise 3C Questions\n",
        "\n",
        "Instructions: Edit this text cell to respond to the following questions:\n",
        "\n",
        "For Will and Molly, are their DNA sequences the same?\n",
        "\n",
        "*   No, Will and Molly’s DNA sequences are not the same.\n",
        "\n",
        "What type of mutation does Molly have?  \n",
        "\n",
        "*   Molly has a point mutation, specifically a change from a G to an A.  This is specifically a silent mutation since the amino acid sequence stays the same.\n",
        "\n",
        "\n",
        "What effect does this mutation have on Molly's protein sequence?  \n",
        "\n",
        "*   The protein sequence remains the same.\n",
        "\n",
        "\n",
        "What effect does this mutation have on Molly's protein function?  \n",
        "\n",
        "*   Because there was no effect on the protein sequence, we would predict there is no effect on the protein structure and function.\n",
        "\n",
        "\n",
        "Explain why Molly's beta-globin gene has a mutation, but she does not show symptoms of sickle cell anemia.\n",
        "\n",
        "*   While Molly’s DNA sequence changed, Molly’s protein sequence did not change, so the beta-globin protein is expected to remain functional, so no sickle cell anemia symptoms are expected.\n"
      ]
    },
    {
      "cell_type": "markdown",
      "metadata": {
        "id": "Y4D43m_oNRgV"
      },
      "source": [
        "## Exercise 3 Check-in Question\n",
        "\n",
        "\n",
        "Why does no one else in his immediate family, including his parents, display the same symptoms as Kevin?\n",
        "\n",
        "*   Because sickle cell anemia is an autosomal recessive disorder, an individual needs to have mutations in both copies of this gene (the copy from mom and the copy from dad) in order to have the disorder; this is specifically the A to T mutation that leads to a change in the amino acid sequence.  Kevin’s parents are thus likely carriers: they are heterozygous, having one wild type copy and one mutated copy of the beta globin gene.  Kevin’s siblings did not inherit this mutated version of the gene that leads to sickle cell anemia.\n",
        "\n"
      ]
    },
    {
      "cell_type": "markdown",
      "metadata": {
        "id": "Qkchh7waG-dQ"
      },
      "source": [
        "----\n",
        "# Exercise 4: Apply your Programming Skills!\n",
        "\n",
        "\n"
      ]
    },
    {
      "cell_type": "code",
      "metadata": {
        "id": "ppoCcTu-i7_6"
      },
      "source": [
        "lucia_dna = \"ACAGACACCATGGTGCATCTGACTCCTGAGGAGAAGTCTGCCGTTACTGCCCTGTGGGGCAAGGTGAACGTGGATGAAG\"\n",
        "\n",
        "carlos_dna = \"ACAGACACCATGGTGCATCTGACTCCTGAGGAGAGGTCTGCCGTTACTGCCCTGTGGGGCAAGGTGAACGTGGATGAAG\""
      ],
      "execution_count": null,
      "outputs": []
    },
    {
      "cell_type": "code",
      "metadata": {
        "colab": {
          "base_uri": "https://localhost:8080/"
        },
        "id": "lassY6tQvBcW",
        "outputId": "667d215b-1305-4085-f3d7-4c8a6ac13da1"
      },
      "source": [
        "# STEP 1 - identify the start codon\n",
        "lucia_start = lucia_dna.find(\"ATG\")\n",
        "carlos_start = carlos_dna.find(\"ATG\")\n",
        "\n",
        "print(\"Lucia's start codon position:\", lucia_start)\n",
        "print(\"Carlos' start codon position:\", carlos_start)"
      ],
      "execution_count": null,
      "outputs": [
        {
          "output_type": "stream",
          "name": "stdout",
          "text": [
            "Lucia's start codon position: 9\n",
            "Carlos' start codon position: 9\n"
          ]
        }
      ]
    },
    {
      "cell_type": "code",
      "metadata": {
        "colab": {
          "base_uri": "https://localhost:8080/"
        },
        "id": "6kDSUmGnwCsy",
        "outputId": "c133e897-08ea-4c09-bb5b-90e7c10084c3"
      },
      "source": [
        "# STEP 2 - create new coding sequence variables using start codon positions from part 1\n",
        "lucia_cds = lucia_dna[lucia_start:]\n",
        "carlos_cds = carlos_dna[carlos_start:]\n",
        "\n",
        "print(\"Lucia's coding sequence:\", lucia_cds)\n",
        "print(\"Carlos' coding sequence:\", carlos_cds)"
      ],
      "execution_count": null,
      "outputs": [
        {
          "output_type": "stream",
          "name": "stdout",
          "text": [
            "Lucia's coding sequence: ATGGTGCATCTGACTCCTGAGGAGAAGTCTGCCGTTACTGCCCTGTGGGGCAAGGTGAACGTGGATGAAG\n",
            "Carlos' coding sequence: ATGGTGCATCTGACTCCTGAGGAGAGGTCTGCCGTTACTGCCCTGTGGGGCAAGGTGAACGTGGATGAAG\n"
          ]
        }
      ]
    },
    {
      "cell_type": "code",
      "metadata": {
        "colab": {
          "base_uri": "https://localhost:8080/"
        },
        "id": "TZmDWaTTwsNX",
        "outputId": "5e99b7ea-f269-443a-d644-81b1b54378a6"
      },
      "source": [
        "# STEP 3 - transcribe DNA (CDS) to mRNA\n",
        "lucia_rna = lucia_cds.replace(\"T\", \"U\")\n",
        "carlos_rna = carlos_cds.replace(\"T\", \"U\")\n",
        "\n",
        "print(\"Lucia's rna:\", lucia_rna)\n",
        "print(\"Carlos' rna:\", carlos_rna)"
      ],
      "execution_count": null,
      "outputs": [
        {
          "output_type": "stream",
          "name": "stdout",
          "text": [
            "Lucia's rna: AUGGUGCAUCUGACUCCUGAGGAGAAGUCUGCCGUUACUGCCCUGUGGGGCAAGGUGAACGUGGAUGAAG\n",
            "Carlos' rna: AUGGUGCAUCUGACUCCUGAGGAGAGGUCUGCCGUUACUGCCCUGUGGGGCAAGGUGAACGUGGAUGAAG\n"
          ]
        }
      ]
    },
    {
      "cell_type": "code",
      "metadata": {
        "colab": {
          "base_uri": "https://localhost:8080/"
        },
        "id": "WpxcFIqyxmeY",
        "outputId": "6e8071b5-bb0a-444a-bdb5-34fb93a868ba"
      },
      "source": [
        "# STEP 4 - translate DNA (CDS) to amino acid sequence\n",
        "lucia_protein = translate(lucia_cds)\n",
        "carlos_protein = translate(carlos_cds)\n",
        "\n",
        "print(\"Lucia's protein sequence:\", lucia_protein)\n",
        "print(\"Carlos' protein sequence:\", carlos_protein)"
      ],
      "execution_count": null,
      "outputs": [
        {
          "output_type": "stream",
          "name": "stdout",
          "text": [
            "Lucia's protein sequence: MVHLTPEEKSAVTALWGKVNVDE\n",
            "Carlos' protein sequence: MVHLTPEERSAVTALWGKVNVDE\n"
          ]
        }
      ]
    },
    {
      "cell_type": "code",
      "metadata": {
        "colab": {
          "base_uri": "https://localhost:8080/"
        },
        "id": "9kUiSF4wx8uE",
        "outputId": "a3c10b2a-3c2d-4a5b-fe70-0d22803162f1"
      },
      "source": [
        "# STEP 5 - pairwise comparison of Lucia's DNA (CDS) to wildtype sequence (For this code cell, edit the first line of code only;\n",
        "                                                                        # the remaining code is already complete)\n",
        "\n",
        "wildtype_dna = \"ATGGTGCATCTGACTCCTGAGGAGAAGTCTGCCGTTACTGCCCTGTGGGGCAAGGTGAACGTGGATGAAG\"\n",
        "\n",
        "# Comparison of Lucia's DNA (CDS) to wildtype DNA\n",
        "\n",
        "symbol = \"\" # create a new empty string to hold the symbols to indicate if the bases are identical or not\n",
        "for i in range(len(lucia_cds)): # going through the sequence base by base\n",
        "    if lucia_cds[i]==wildtype_dna[i]: # check to see if the bases are different\n",
        "        symbol += \"|\" # add | if the nucleotides between the two sequences are the same\n",
        "    else:\n",
        "        symbol += \".\" # add . if the nucleotides between the two sequenes are not the same\n",
        "\n",
        "print(\"{}\\n{}\\n{}\".format(lucia_cds,symbol,wildtype_dna))\n",
        "\n",
        "# Comparison of Lucia's protein to wildtype protein\n",
        "\n",
        "wildtype_protein = translate(wildtype_dna) # we need to translate the wildtype DNA to its corresponding protein sequence\n",
        "\n",
        "symbol = \" \"*18 # create a string with 18 spaces\n",
        "for i in range(len(lucia_protein)): # going through the sequence amino acid by amino acid\n",
        "    if lucia_protein[i]==wildtype_protein[i]: # check to see if the amino acids are different\n",
        "        symbol += \"|\" # add | if the amino acid between the two sequences are the same\n",
        "    else:\n",
        "        symbol += \".\" # add . if the amino acid between the two sequences are not the same\n",
        "print(\"\\nLucia's protein:  {}\\n{}\\nWildtype protein: {}\".format(lucia_protein,symbol,wildtype_protein))"
      ],
      "execution_count": null,
      "outputs": [
        {
          "output_type": "stream",
          "name": "stdout",
          "text": [
            "ATGGTGCATCTGACTCCTGAGGAGAAGTCTGCCGTTACTGCCCTGTGGGGCAAGGTGAACGTGGATGAAG\n",
            "||||||||||||||||||||||||||||||||||||||||||||||||||||||||||||||||||||||\n",
            "ATGGTGCATCTGACTCCTGAGGAGAAGTCTGCCGTTACTGCCCTGTGGGGCAAGGTGAACGTGGATGAAG\n",
            "\n",
            "Lucia's protein:  MVHLTPEEKSAVTALWGKVNVDE\n",
            "                  |||||||||||||||||||||||\n",
            "Wildtype protein: MVHLTPEEKSAVTALWGKVNVDE\n"
          ]
        }
      ]
    },
    {
      "cell_type": "code",
      "metadata": {
        "colab": {
          "base_uri": "https://localhost:8080/"
        },
        "id": "RMGr9cVu1j5D",
        "outputId": "766d1e4c-9846-4171-e50e-8720aa169315"
      },
      "source": [
        "# STEP 5 - pairwise comparison of Carlos' DNA (CDS) to wildtype sequence\n",
        "\n",
        "# Comparison of Carlos' DNA to wildtype DNA - fill in the incomplete code; anytime you see \"XXXX\", replace it with the\n",
        "# appropriate variable name for Carlos\n",
        "\n",
        "symbol = \"\" # create a new empty string to hold the symbols to indicate if the bases are identical or not\n",
        "for i in range(len(carlos_cds)): # going through the sequence base by base\n",
        "    if carlos_cds[i]==wildtype_dna[i]: # check to see if the bases are different\n",
        "        symbol += \"|\" # add | if the nucleotides between the two sequences are the same\n",
        "    else:\n",
        "        symbol += \".\" # add . if the nucleotides between the two sequenes are not the same\n",
        "\n",
        "print(\"{}\\n{}\\n{}\".format(carlos_cds,symbol,wildtype_dna))\n",
        "\n",
        "# Comparison of Carlos' protein to wildtype protein\n",
        "\n",
        "symbol = \" \"*18 # create a string with 18 spaces\n",
        "for i in range(len(carlos_protein)): # going through the sequence amino acid by amino acid\n",
        "    if carlos_protein[i]==wildtype_protein[i]: # check to see if the amino acids are different\n",
        "        symbol += \"|\" # add | if the amino acid between the two sequences are the same\n",
        "    else:\n",
        "        symbol += \".\" # add . if the amino acid between the two sequences are not the same\n",
        "print(\"\\nCarlos' protein:  {}\\n{}\\nWildtype protein: {}\".format(carlos_protein,symbol,wildtype_protein))"
      ],
      "execution_count": null,
      "outputs": [
        {
          "output_type": "stream",
          "name": "stdout",
          "text": [
            "ATGGTGCATCTGACTCCTGAGGAGAGGTCTGCCGTTACTGCCCTGTGGGGCAAGGTGAACGTGGATGAAG\n",
            "|||||||||||||||||||||||||.||||||||||||||||||||||||||||||||||||||||||||\n",
            "ATGGTGCATCTGACTCCTGAGGAGAAGTCTGCCGTTACTGCCCTGTGGGGCAAGGTGAACGTGGATGAAG\n",
            "\n",
            "Carlos' protein:  MVHLTPEERSAVTALWGKVNVDE\n",
            "                  ||||||||.||||||||||||||\n",
            "Wildtype protein: MVHLTPEEKSAVTALWGKVNVDE\n"
          ]
        }
      ]
    },
    {
      "cell_type": "markdown",
      "metadata": {
        "id": "cRoHkgvf4LqJ"
      },
      "source": [
        "##Part 5 Answers:\n",
        "\n",
        "Are Lucia’s and Carlos’ sequences the same or different from the wild type sequence?\n",
        "\n",
        "*   Comparing Lucia's coding sequence to the wildtype sequence, both her DNA and protein sequences were identical to the wildtype. However, Carlos' coding sequence and protein sequence varied from the wildtype sequences at 1 base pair (G -> A), affecting the protein sequence (R -> K).\n",
        "\n",
        "How do you predict this may have an effect on their protein function, if any?\n",
        "\n",
        "*   A single base pair change that affects the amino acid sequence has the potential to alter the structure of the protein, thus potentially changing the protein's function.  \n",
        "\n",
        "How do you predict this may have an effect on the child’s phenotype, if any?\n",
        "\n",
        "*   A change in protein function has the potential to alter the child's phenotype by potentially altering hemoglobin function."
      ]
    }
  ]
}