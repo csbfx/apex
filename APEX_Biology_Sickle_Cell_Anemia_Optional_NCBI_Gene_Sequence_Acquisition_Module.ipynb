{
  "nbformat": 4,
  "nbformat_minor": 0,
  "metadata": {
    "colab": {
      "provenance": [],
      "include_colab_link": true
    },
    "kernelspec": {
      "display_name": "Python 3",
      "language": "python",
      "name": "python3"
    },
    "language_info": {
      "codemirror_mode": {
        "name": "ipython",
        "version": 3
      },
      "file_extension": ".py",
      "mimetype": "text/x-python",
      "name": "python",
      "nbconvert_exporter": "python",
      "pygments_lexer": "ipython3",
      "version": "3.7.6"
    }
  },
  "cells": [
    {
      "cell_type": "markdown",
      "metadata": {
        "id": "view-in-github",
        "colab_type": "text"
      },
      "source": [
        "<a href=\"https://colab.research.google.com/github/csbfx/apex/blob/main/APEX_Biology_Sickle_Cell_Anemia_Optional_NCBI_Gene_Sequence_Acquisition_Module.ipynb\" target=\"_parent\"><img src=\"https://colab.research.google.com/assets/colab-badge.svg\" alt=\"Open In Colab\"/></a>"
      ]
    },
    {
      "cell_type": "markdown",
      "metadata": {
        "id": "-IJR_ISEmvhY"
      },
      "source": [
        "# Exploring Bioinformatics with Python Programming: A Case Study on Sickle Cell Anemia\n",
        "##Prepatory Module\n",
        "#### Created by Wendy Lee, Akiko Balitactac, Inika Bhatia, Valerie Carr, Morris Jones, and Jennifer Avena.\n",
        "#### Last updated: June 30, 2023\n",
        "#### Licensed under CC BY-NC-SA\n",
        "\n",
        "##<font color='#fc03b5'>*NOTES TO INSTRUCTORS:*</font>\n",
        "\n",
        "\n",
        "* <font color='#fc03b5'>*DUE TO CONTINUED UPDATES OF NCBI, THE CURRENT INSTRUCTIONS BELOW MAY BE OUTDATED.  THUS, THIS IS AN OPTIONAL PREPARATORY MODULE TO THE MAIN ACTIVITY MODULE.  SINCE THIS IS AN OPTIONAL PREPARATORY MODULE, THE MAIN ACTIVITY MODULE ALREADY PROVIDES STUDENTS WITH THE DNA SEQUENCE NEEDED.  HOWEVER, IF YOU CHOOSE TO USE THIS PREPARATORY MODULE, PLEASE EDIT YOUR COPY OF THE MAIN ACTIVITY MODULE AS YOU DEEM APPROPRIATE WHERE THE SEQUENCE IS ALREADY PROVIDED.*</font>\n",
        "*   <font color='#fc03b5'>*IF YOU CHOOSE TO USE THIS OPTIONAL MODULE, PLEASE MAKE A COPY OF THIS, TEST THE MODULE, AND MAKE ANY NECESSARY EDITS TO YOUR OWN VERSION PRIOR TO PROVIDING TO STUDENTS.*</font>\n",
        "\n",
        "*   <font color='#fc03b5'>*DELETE THIS \"NOTES TO INSTRUCTORS\" TEXT AND EDIT THE FILE NAME PRIOR TO PROVIDING TO STUDENTS.*</font>\n",
        "\n",
        "\n",
        "\n",
        "\n",
        "  \n",
        "\n",
        "### This is a module to be completed prior to the corresponding in-class programming exercises that are designed to meet the following learning objectives:\n",
        "  1. Using computing, determine the RNA and protein sequence from the DNA sequence of a gene, and compare gene sequences.\n",
        "  2. Using computing, locate a specific region within the sequence of a gene.\n",
        "  3. Predict the effects of mutations on protein function.\n",
        "  \n"
      ]
    },
    {
      "cell_type": "markdown",
      "source": [
        "# BEFORE YOU START: MAKE A COPY\n",
        "* This file is view only, meaning that you can't edit it.\n",
        "    * To create an editable copy, look towards the top of the notebook and click on `Copy to Drive`. This will cause a new tab to open with your own personal copy.\n",
        "    * If you want to refer back to your copy in the future, you can find it in Google Drive in a folder called `Colab Notebooks`."
      ],
      "metadata": {
        "id": "XTQFwMeO14zh"
      }
    },
    {
      "cell_type": "markdown",
      "metadata": {
        "id": "xFOykJsY5dW7"
      },
      "source": [
        "----\n",
        "# Bioinformatics Databases - NCBI\n",
        "\n",
        "NCBI, or the National Center for Biotechnology Information, is an online database that provides a large number of resources for biological information and data. It contains a multitude of databases, some of the most relevant being gene databases, protein databases, and nucleotide databases. For this pre-class exercise, you are going to use NCBI to obtain the wild-type (i.e., typical) sequence for the human beta-globin gene (also called hemoglobin subunit beta or HBB), which, when mutated, can lead to the disease sickle cell anemia. Specifically, you will be obtaining a region of the coding sequence for this gene.  A coding sequence (abbreviated CDS) is the sequence of DNA that begins with the start codon and ends with the stop codon that will be coded into protein, so it contains only DNA sequence for exons, not introns.  You will need this sequence for your in-class assignment.  Please follow the steps below.\n",
        "\n",
        "1. Go to the NCBI home page: https://www.ncbi.nlm.nih.gov/\n",
        "2. Click the top category bar where it says \"All Databases\" and scroll down to click the \"Gene\" database. Here, we are specifying that we want to search specifically in the gene category.\n",
        "3. In the search bar, type \"HBB\" (Hemoglobin subunit beta, the specific gene where sickle cell anemia mutations can occur) and search.\n",
        "4. Locate the first result titled \"HBB - hemoglobin subunit beta\" (it should also specify that it is the Homo sapiens gene) and click the \"RefSeqGene\" link.\n",
        "5. There should be two results; click on the first result titled \"Homo sapiens hemoglobin subunit beta (HBB), RefSeqGene (LRG_1232) on chromosome 11.\"\n",
        "6. This page provides a lot of useful information about this specific gene, including\n",
        "\n",
        "  a. The HBB gene's unique accession number (NG_059281)\n",
        "\n",
        "  b. The length of the gene (10,106 base pairs)\n",
        "\n",
        "  c. Relevant journal publications about the gene\n",
        "\n",
        "  d. Clinical relevance, and more\n",
        "\n",
        "7. NCBI provides both the entire gene sequence (including exons and introns) as well as just the coding sequence (including exons, excluding introns). For this module's purposes, we only want the coding sequence. To retrieve the coding sequence alone, click the \"Send to:\" button on the top right and from the dropdown menu, select \"Coding Sequences.\"\n",
        "\n",
        "  a. Make sure that the format is \"FASTA Nucleotide\" instead of \"FASTA protein\" to ensure that we get the sequence in base pair form and not amino acid form.\n",
        "\n",
        "  b. Click \"Create File.\"\n",
        "8. A file called \"sequence.txt\" should have downloaded to your computer. This file contains the nucleotide coding sequence for the wildtype HBB gene.\n",
        "9. Open the text file and copy/paste the first line of nucleotides into the code cell below.\n"
      ]
    },
    {
      "cell_type": "code",
      "source": [
        "# Insert the first line of the DNA coding sequence retrieved from NCBI (this should be 70 nucleotides) in between the quotation marks in the empty variable below\n",
        "\n",
        "wildtype_cds = \"\""
      ],
      "metadata": {
        "id": "D797ya-p1dxr"
      },
      "execution_count": null,
      "outputs": []
    }
  ]
}