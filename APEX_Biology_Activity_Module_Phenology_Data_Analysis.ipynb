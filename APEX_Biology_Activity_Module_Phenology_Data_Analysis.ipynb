{
  "cells": [
    {
      "cell_type": "markdown",
      "metadata": {
        "id": "view-in-github",
        "colab_type": "text"
      },
      "source": [
        "<a href=\"https://colab.research.google.com/github/csbfx/apex/blob/main/APEX_Biology_Activity_Module_Phenology_Data_Analysis.ipynb\" target=\"_parent\"><img src=\"https://colab.research.google.com/assets/colab-badge.svg\" alt=\"Open In Colab\"/></a>"
      ]
    },
    {
      "cell_type": "markdown",
      "metadata": {
        "id": "FoZGBTY3zk11"
      },
      "source": [
        "# Data Analysis with Python Programming: Phenology of Oak Trees in California\n",
        "\n",
        "Author: Wendy Lee  \n",
        "Last Modified: August 9, 2023\n",
        "\n",
        "<img src=\"https://static.inaturalist.org/projects/5896-cover.png?1466301609\">\n",
        "\n",
        "<font color=gray size=1>Image credit: [inaturalist.org](www.inaturalist.org)</font>\n",
        "\n",
        "Have you ever wondered if Oak trees in California release pollen during the spring, which is when seasonal allergies are most common? Furthermore, do specific types of Oak trees in California show a preference for coastal climates over inland ones? In this module, we will utilize phenometric data from the USA National Phenology Network (USA-NPN) to generate a graph that displays the pollen release patterns of Oak trees in California. Additionally, we will construct interactive maps to illustrate the geographic distribution of various Oak species in California.\n",
        "\n",
        "Phenometric data refers to quantitative measurements or data collected during the study of phenology, which is the timing of recurring biological events in relation to changing environmental conditions. Phenology involves observing and recording the timing of events such as plant flowering, leaf emergence, bird migrations, and insect life cycles.\n",
        "\n",
        "Observational data for the USA-NPN (USA National Phenology Network) are gathered on-site by both citizen and professional observers. They adhere to standardized protocols and utilize the Nature's Notebook platform. These data span from 2009 to the present day and are available in four formats or data types: Status & Intensity, Individual Phenometrics, Site Phenometrics, and Magnitude Phenometrics. The figure below provides an overview of the distinctions, while the succeeding sections offer detailed information about each type. For a comprehensive understanding of the USA-NPN approach and guidelines for working with each data type, refer to the following [documentation](https://pubs.usgs.gov/of/2018/1060/ofr20181060.pdf).\n",
        "\n",
        "For Exercise 1, we will use the Magnitude Phenometric data from the USA-NPN (https://data.usanpn.org/observations/) and they are stored in a comma-separated value (CSV) file stored in this Git repository: `https://raw.githubusercontent.com/csbfx/apex/main/data/magnitude_phenometrics_data.csv`\n",
        "\n",
        "\n",
        "\n",
        "*Side note*: What is a Git repository?  \n",
        "A Git repository is a data structure used by the distributed version control system called Git. In software development, a repository is a place where code and other project files are stored, tracked, and managed. It allows multiple developers to collaborate on a project while maintaining a history of changes and versions.\n",
        "\n",
        "---"
      ]
    },
    {
      "cell_type": "markdown",
      "source": [
        "## Learning Outcomes:\n",
        "After completing this module, you will be able to   \n",
        "1. Analyze and filter tabular data.\n",
        "2. Visualize time series data to observe trends.\n",
        "3. Use geospatial data to show the locations on a map.\n",
        "\n"
      ],
      "metadata": {
        "id": "niH4WQLpF5a0"
      }
    },
    {
      "cell_type": "markdown",
      "source": [
        "## A few notes before you start\n",
        "* This file is view only, meaning that you can't edit it.\n",
        "    * To generate an editable copy, navigate to the top of the notebook and click on the <img src=\"https://www.sjsu.edu/people/wendy.lee/pics/apex/copytodrive.png\" valign=\"bottom\" border=1px> icon. This will result in the opening of a fresh tab containing your personalized copy.\n",
        "    * If you want to refer back to your copy in the future, you can find it in Google Drive in a folder called `Colab Notebooks`.\n",
        "* To run a cell, use `shift` + `enter` or hit the play button.   \n",
        "* As you progress through the exercises in this module, run every code cell in order.  Many functions and variables are defined in the beginning exercises in the module and thus need to be run in order for later code in the module to work."
      ],
      "metadata": {
        "id": "FR0AKEEduat-"
      }
    },
    {
      "cell_type": "markdown",
      "source": [
        "---\n",
        "# Exercise 1 - Examine how much pollen was released in each month for a selected group of years\n",
        "\n",
        "##Part 1. Obtain data from the git repository and store it in a Python Pandas DataFrame.\n",
        "\n",
        "A Pandas DataFrame is a two-dimensional data structure in the Python programming language, consisting of rows and columns. It is a core component of the [Pandas library](https://pandas.pydata.org/docs/user_guide/index.html#user-guide) and is used to represent tabular data, such as spreadsheets or databases, in a structured manner.\n",
        "\n",
        "DataFrames are highly flexible, capable of handling various data types, including numerical, categorical, and text data. They also provide extensive functionality for data manipulation, aggregation, and filtering, making them a popular tool for data analysis and data science tasks.\n",
        "\n",
        "In a Pandas DataFrame, the rows represent observations or records, while the columns represent features or variables. Each column has a unique name and can be accessed and manipulated individually.\n",
        "\n",
        "##Part 2. Load data into a DataFrame\n",
        "First, we will need to `import` Pandas and use `pd` as an alias by running this line of code:\n",
        "\n",
        "> `import pandas as pd`\n",
        "\n",
        "In programming, an alias refers to an alternate name or identifier that can be used to refer to a specific variable, function, type, module, or any other programming entity. Aliases are often used to make code more readable.\n",
        "\n",
        "Second, we will use the Pandas <font color=darkorange>*function*</font> `read_csv()` to read the data from the csv file and store them in a Pandas DataFrame <font color=darkorange>*object*</font>. This function returns the DataFrame object which is then stored in a variable called `df`.\n",
        "\n",
        "> `df = pd.read_csv(\"https://raw.githubusercontent.com/csbfx/apex/main/magnitude_phenometrics_data.csv\")`\n",
        "\n",
        "**What is a <font color=darkorange>function</font>?**\n",
        "In programming, a *function* typically performs an operation or returns a value. In this case, the `read_csv()` function reads the data from the csv file and returns a Pandas DataFrame object that contains the data.\n",
        "\n",
        "**What is an <font color=darkorange>object</font>?**\n",
        "In programming, an *object* is a thing that has properties and can do things. For example, think of a car. A car is an object that has properties, as known as attributes, such as color, make, model, and year. It can also do things, aka with functions, like drive, turn, and stop."
      ],
      "metadata": {
        "id": "Vhsn0jS5jbps"
      }
    },
    {
      "cell_type": "code",
      "execution_count": null,
      "metadata": {
        "scrolled": true,
        "id": "BOj146r9zk15"
      },
      "outputs": [],
      "source": [
        "import pandas as pd\n",
        "\n",
        "df = pd.read_csv('https://raw.githubusercontent.com/csbfx/apex/main/data/magnitude_phenometrics_data.csv')\n",
        "df"
      ]
    },
    {
      "cell_type": "markdown",
      "source": [
        "##Part 3. Examine the data\n",
        "\n",
        "### 1. What are the column headers in this data set?\n",
        "\n",
        "There is a simple method to display all the column names in this dataset without the need to horizontally scroll through the many columns. Pandas DataFrame has an <font color=darkorange>*attribute*</font>, `columns`, that stores the list of column names.\n",
        "\n",
        "**What is an <font color=blue>attribute</font>**?\n",
        "An attribute holds a value or state associated with an object.\n",
        "\n",
        "In this case, the `columns` attribute of the Pandas DataFrame object `df` holds the list of column names."
      ],
      "metadata": {
        "id": "gto4DsmCmlnr"
      }
    },
    {
      "cell_type": "code",
      "execution_count": null,
      "metadata": {
        "id": "9w_siBskzk16"
      },
      "outputs": [],
      "source": [
        "# Show all the column in the dataset\n",
        "df.columns"
      ]
    },
    {
      "cell_type": "markdown",
      "source": [
        "### 2. What kind of phenophases are present in this data set? <a name='unique'></a>\n",
        "\n",
        "From the column names, we noticed that there is a column called **`Phenophase_Description`**. A phenophase is a distinct stage or event in the life cycle of a plant or animal that is used in the study of phenology. Phenophases are specific points or periods within the life cycle of an organism that are used as reference points for tracking and comparing the timing of events. We can use a function `unique()` to identify all the unique values in the `Phenophase_Description` column."
      ],
      "metadata": {
        "id": "Rv0Yl9CKt35n"
      }
    },
    {
      "cell_type": "code",
      "source": [
        "df.Phenophase_Description.unique()"
      ],
      "metadata": {
        "id": "pA8OqDmhu5wg"
      },
      "execution_count": null,
      "outputs": []
    },
    {
      "cell_type": "markdown",
      "source": [
        "Let's take a look at the line of code we just ran. Here, the first part of the code, `df.Phenophase_Description`, is for extracting the column\n",
        "`Phenophase_Description` from the DataFrame `df`. A column of a DataFrame is an object known as <font color=darkorange>**Series**</font> in Pandas. `unique()` is a function of a Series object which returns an array of unique values stored in the `Phenophase_Description` column."
      ],
      "metadata": {
        "id": "WPF0VgQ4vOVG"
      }
    },
    {
      "cell_type": "markdown",
      "source": [
        "## Check-in Question\n",
        "\n",
        "In this dataset, how many years does it cover? Hint: apply the `unique()` function on the DataFrame column `df.Year` in the following code cell as shown [above](#unique)."
      ],
      "metadata": {
        "id": "g6PP2jEHqhtv"
      }
    },
    {
      "cell_type": "code",
      "source": [
        "# Check-in Question - In this dataset, how many years does it cover?\n",
        "\n",
        "# Your code here . . ."
      ],
      "metadata": {
        "id": "1HioY1k0rbjJ"
      },
      "execution_count": 4,
      "outputs": []
    },
    {
      "cell_type": "code",
      "source": [
        "# @title Check your answer\n",
        "# Check-in Question - In this dataset, how many years does it cover?\n",
        "# Solution:\n",
        "df.Year.unique()\n",
        "\n"
      ],
      "metadata": {
        "cellView": "form",
        "id": "ljkr-TNmvemf"
      },
      "execution_count": null,
      "outputs": []
    },
    {
      "cell_type": "markdown",
      "source": [
        "##Part 4. Extract data of interest from the DataFrame, `df`\n",
        "\n",
        "Let's focus on the data collected for **Pollen release (flowers)**. Here, we will extract data that has the value \"Pollen release (flowers)\" in the `Phenophase_Description` column from the DataFrame `df`.\n",
        "\n",
        "Here is the syntax for extracting/filtering data from a dataframe:\n",
        "\n",
        "> `dataframe[(a boolean expression)]`\n",
        "\n",
        "> Example: `df[(df.Phenophase_ID == 502)]`\n",
        "\n",
        "**What is a <font color=orange>conditional statement**</font>? In programming, a Boolean expression is a statement that can either be true or false.\n",
        "\n",
        "In this case, our boolean expression would be checking if the values in the `Phenophase_Description` column equal to \"Pollen release (flowers)\":\n",
        "> `df.Phenophase_Description == \"Pollen release (flowers)\"`\n",
        "\n",
        "Note that, in Python, a double-equal `==` is used for checking for equality. A single `=` is for assigning a value to a variable.\n",
        "\n",
        "The data from this filtering step will be stored in a DataFrame, and we will assign this DataFrame to a variable called `pollen`."
      ],
      "metadata": {
        "id": "JXm8FJNkrqLQ"
      }
    },
    {
      "cell_type": "code",
      "execution_count": null,
      "metadata": {
        "id": "E8aE5vMFzk17"
      },
      "outputs": [],
      "source": [
        "# Filter the pollen release data using the boolean expression\n",
        "# Phenophase_Description == \"Pollen release (flowers)\".\n",
        "\n",
        "pollen = df[(df.Phenophase_Description == \"Pollen release (flowers)\")]\n",
        "\n",
        "# view the content stored in the variable pollen\n",
        "pollen"
      ]
    },
    {
      "cell_type": "markdown",
      "source": [
        "##Part 5. Extract the month information from the data for comparing pollen release levels in each month over a selected range of years <a name=\"convert_month\"></a>\n",
        "\n",
        "Comparing the monthly pollen release levels of California Oak Trees across different years holds significance as it offers insights into the ecological dynamics and potential impacts of changing environmental conditions. By analyzing variations in pollen release over time, researchers can identify patterns related to climate shifts, temperature changes, and seasonal alterations. This information aids in understanding the resilience and adaptability of oak trees to evolving conditions, which can be essential for conservation efforts, habitat management, and predicting potential effects of climate change on these iconic trees' reproductive behaviors.\n",
        "\n",
        "In this dataset, the month information is embedded in the `Start_Date` and `End_Date` columns. Run the following code cell to extract the \"Month\" data from the pollen DataFrame and convert the numerical month values into their corresponding three-letter abbreviations.\n",
        "\n",
        "\n",
        "\n",
        "\n"
      ],
      "metadata": {
        "id": "PoGvDIXZ0qfC"
      }
    },
    {
      "cell_type": "code",
      "execution_count": null,
      "metadata": {
        "id": "Py8HjkTWzk17"
      },
      "outputs": [],
      "source": [
        "# Part 5. Extract the month from the Start_Date and convert the numerical months to the three letter abbreviations.\n",
        "import calendar\n",
        "\n",
        "# Step 5.1: Convert the values in the State_Date column into Pandas datetime objects\n",
        "p_start_date = pd.to_datetime(pollen.Start_Date)\n",
        "\n",
        "# Step 5.2: Extract the month attribute from the datatime objects\n",
        "month = p_start_date.map(lambda x: x.month)\n",
        "\n",
        "# Step 5.3: Convert the month values into 3-letter abbreviations\n",
        "month_name = month.apply(lambda x: calendar.month_abbr[x])\n",
        "month_name"
      ]
    },
    {
      "cell_type": "markdown",
      "source": [
        "###Let's take a closer look at the code for each steps:\n",
        "\n",
        "**Step 5.1.** In Pandas, the datetime object is a data type used to represent dates and times. It is a powerful tool for working with time-series data in Python. We will use a Pandas function `to_datetime()` to convert the values stored in the `Start_Date` column into Pandas `datetime` objects.\n",
        "\n",
        "> `p_start_date = pd.to_datetime(pollen.Start_Date)`\n",
        "\n",
        "> Note that the variable, `p_start_date`, is now storing a **Series** that contains all the `datetime` objects corresponding to each of the value stored in the `Start_Date` column. A **Series** can be thought of as a column in a DataFrame or a single-dimensional array with associated labels, which are referred to as the index.\n",
        "\n",
        "**Step 5.2.** With a `datetime` object, we can perform a wide range of operations on it. For example, we can extract individual components (such as year or month) using the year, month, and day attributes. In our case, we will extract the month attributes.\n",
        "\n",
        "> `month = p_start_date.map(lambda x: x.month)`\n",
        "\n",
        "**Step 5.3.** Transform the month values stored in the variable `month` into 3-letter month abbreviations.\n",
        "\n",
        "> `month_name = month.apply(lambda x: calendar.month_abbr[x])`\n",
        "\n",
        "**What are the functions <font color=darkorange>`map()`</font> and <font color=darkorange>`apply()`</font>?**\n",
        "In Pandas, `map()` and `apply()` are two functions that are commonly used for data transformation.\n",
        "\n",
        "- `map()` is a function that applies a function to each element of a Pandas Series. The output of the function is a new Series with the same length as the original.\n",
        "\n",
        "- `apply()` is similar to `map()`, but it applies a function to each element of a DataFrame or a Series along a specified axis. This allows you to perform more complex operations on your data."
      ],
      "metadata": {
        "id": "Bzk9wvIwkJgw"
      }
    },
    {
      "cell_type": "markdown",
      "source": [
        "##Part 6. Prepare the data for a time-series graph illustrating the amount of pollen released during each month across a chosen set of years."
      ],
      "metadata": {
        "id": "oRT672Ts8pRg"
      }
    },
    {
      "cell_type": "markdown",
      "source": [
        "Run the following code cell to create a Pandas DataFrame with the data we need to create the time-series plot."
      ],
      "metadata": {
        "id": "OlstCOpgncXw"
      }
    },
    {
      "cell_type": "code",
      "execution_count": null,
      "metadata": {
        "id": "immu4patzk18"
      },
      "outputs": [],
      "source": [
        "# Part 6. Prepare the data for a time-series graph\n",
        "\n",
        "# Step 6.1: Create a dataframe that contains the Level of Pollen Release (flowers) and Year columns for plotting.\n",
        "p_df = pollen[['Proportion_Yes_Records','Year']]\n",
        "\n",
        "# Step 6.2: Rename the column Proportion_Yes_Records to Level of Pollen Release (flowers)\n",
        "p_df = p_df.rename({'Proportion_Yes_Records':'Level of Pollen Release (flowers)'}, axis=1)\n",
        "\n",
        "# Step 6.3: Add the Month column with the 3-letter abbrev. to the dataframe p_df\n",
        "p_df.insert(2, \"Month\", month_name, True)\n",
        "p_df"
      ]
    },
    {
      "cell_type": "markdown",
      "source": [
        "###Let's examine the purpose of each individual step.:\n",
        "\n",
        "**Step 6.1.** To create the time-series plot, we will need to extract two specific columns from the pollen DataFrame: `Proportion_Yes_Records` and `Year`. According to USGS, `Proportion_Yes_Records` stands for *Number of “Yes” records divided by number of all “Yes” and “No” records.* More information can be found on page 16 of the [USGS document](https://pubs.usgs.gov/of/2018/1060/ofr20181060.pdf).  To do this, we can use the following syntax, which extracts multiple columns and creates a new DataFrame:\n",
        "\n",
        "> `dataframe[[column_name1,column_name2]]`\n",
        "\n",
        "> Example: `pollen[['Proportion_Yes_Records','Year']]`\n",
        "\n",
        "\n",
        "**Step 6.2.** In the dataframe, the `Proportion_Yes_Records` column contains values that indicate the extent to which the observed phenophase, namely `Pollen Release (flower)`, is expressed over time. To enhance clarity and relevance, we will rename the `Proportion_Yes_Records` column to `Level of Pollen Release (flowers)` using the DataFrame function `rename()`. Here is the syntax:\n",
        "\n",
        "> `dataframe.rename({'old_name':'new_name'}, axis=1)`\n",
        "\n",
        "> Example: `p_df.rename({'Proportion_Yes_Records':'Level of Pollen Release (flowers)'}, axis=1)`\n",
        "\n",
        "> Note that `axis=1` in the `rename()` function indicates the rename is for the column name.\n",
        "\n",
        "**Step 6.3.** Add the 3-letter month column to this new DataFrame using the DataFrame function `insert()`. Here is the syntax:\n",
        "\n",
        "> `dataframe.insert(insertion_location, column_name, value, allow_duplicates=True/False)`\n",
        "\n",
        "> Example: `p_df.insert(2, \"Month\", month_name, True)` where `month_name` is a Series that contains the 3-letter month abbreviations in [Step 5.3](#convert_month) above. The `insertion_location` is 2, which is the 3rd column. Python position always starts from 0, therefore, the 3rd column has position number 2."
      ],
      "metadata": {
        "id": "7XhvHPNn96GA"
      }
    },
    {
      "cell_type": "markdown",
      "source": [
        "##Part 7. Generate the time-series plot to show the Level of Pollen Release over time for the year 2012, 2015, 2018, and 2021.\n",
        "\n",
        "[Seaborn](https://seaborn.pydata.org/) is a data visualization library for Python that is often used in conjunction with Pandas. Seaborn provides a high-level interface for creating informative and attractive statistical graphics, and is built on top of the popular visualization library, [Matplotlib](https://matplotlib.org/).\n",
        "\n",
        "First, we need to first import all the Python libraries required for generating the visualization:\n",
        "> `import seaborn as sns`  \n",
        "> `import matplotlib.pyplot as plt`  \n",
        "> `from pandas.api.types import CategoricalDtype`\n",
        "\n",
        "The final import statement above enables us to create a custom categorical data type for our \"Month\" data, which ensures that the month values are sorted chronologically instead of alphabetically.\n",
        "\n",
        "### Displaying plot directly in the Colab notebook\n",
        "\n",
        "When we execute `%matplotlib inline` in a Colab notebook cell, it tells the notebook to display any plots generated by Matplotlib directly in the output cell below the code cell. This allows you to view the plot immediately without having to open a separate window or save the plot to a file.\n",
        "\n",
        "\n"
      ],
      "metadata": {
        "id": "dsynoHwZjABp"
      }
    },
    {
      "cell_type": "markdown",
      "source": [
        "Here are the steps for creating the visualization:  \n",
        "\n",
        "**Step 7.1.** Define a categorical data type using a list that includes the 3-letter abbreviations of the month values arranged in chronological order. After defining the new data type, we can convert the Month column of the p_df DataFrame to use this data type.\n",
        "\n",
        "> `months=[\"Jan\",\"Feb\",\"Mar\",\"Apr\",\"May\",\"Jun\",\"Jul\",\"Aug\",\"Sep\",\"Oct\",\"Nov\",\"Dec\"]`  \n",
        "> `p_df[\"Month\"].astype(CategoricalDtype(categories=months,ordered=True))`\n"
      ],
      "metadata": {
        "id": "5yQDNUMMGv7l"
      }
    },
    {
      "cell_type": "markdown",
      "source": [
        "<a name=\"filterdata\"></a>**Step 7.2.** We filter the data from the DataFrame `p_df` to only contain data for the years 2012, 2015, 2018, and 2021. The years chosen here are arbitrary. The filtered results will be stored in a DataFrame called `dd1`.\n",
        "\n",
        "> `dd1 = p_df[p_df.Year.isin([2012,2015,2018,2021])]`\n",
        "\n",
        "\n",
        "<a name=\"relplot\"></a>**Step 7.3.** Lastly, we use Seaborn `relplot()` to generate the time-series visualization. In Seaborn, the `relplot()` function is used to create a relational plot, which is a versatile type of plot designed to visualize the relationships between two or more variables in a dataset. In this case, we are looking at the relationship between `Level of Pollen Release (flowers)` and `Month`.\n",
        "\n",
        "> `sns.relplot(`  \n",
        ">&nbsp;&nbsp;&nbsp;&nbsp;`data=dd1,`  \n",
        ">&nbsp;&nbsp;&nbsp;&nbsp;`x=\"Month\",`  \n",
        ">&nbsp;&nbsp;&nbsp;&nbsp;`y=\"Level of Pollen Release (flowers)\",`  \n",
        ">&nbsp;&nbsp;&nbsp;&nbsp;`aspect=3,`  \n",
        ">&nbsp;&nbsp;&nbsp;&nbsp;`height=4,`  \n",
        ">&nbsp;&nbsp;&nbsp;&nbsp;`hue=\"Year\",`  \n",
        ">&nbsp;&nbsp;&nbsp;&nbsp;`kind=\"line\",`  \n",
        ">&nbsp;&nbsp;&nbsp;&nbsp;`palette=\"viridis\"`  \n",
        ">`)`  \n",
        "> `plt.title(\"\"\"Pollen released by oak trees in California in 2012, 2015, 2018, and 2021\"\"\");`\n",
        "\n",
        "Here, we set `kind=\"line\"`. `relplot()` can plot \"scatter\" or \"line\" plot. For more information, check out the [Seaborn documentation page](https://seaborn.pydata.org/generated/seaborn.relplot.html). We set `hue=\"Year\"` to use different colors to represent the plot for different years. Seaborn comes with many [different color palettes](https://seaborn.pydata.org/tutorial/color_palettes.html). For this plot, we set `palette=\"viridis\"`.\n",
        "\n"
      ],
      "metadata": {
        "id": "XqbJeenrH7UF"
      }
    },
    {
      "cell_type": "code",
      "execution_count": null,
      "metadata": {
        "id": "08r8XVr5zk18"
      },
      "outputs": [],
      "source": [
        "# Part 7. Make a line plot that shows the Level of Pollen Release (flowers) by month for 2012, 2015, 2018, and 2021.\n",
        "\n",
        "from pandas.api.types import CategoricalDtype\n",
        "import seaborn as sns\n",
        "import matplotlib.pyplot as plt\n",
        "%matplotlib inline\n",
        "\n",
        "# Step 7.1\n",
        "months=[\"Jan\",\"Feb\",\"Mar\",\"Apr\",\"May\",\"Jun\",\"Jul\",\"Aug\",\"Sep\",\"Oct\",\"Nov\",\"Dec\"]\n",
        "\n",
        "p_df[\"Month\"].astype(CategoricalDtype(categories=months,ordered=True))\n",
        "\n",
        "# Step 7.2\n",
        "dd1 = p_df[p_df.Year.isin([2012,2015,2018,2021])]\n",
        "\n",
        "# Step 7.3\n",
        "sns.relplot(\n",
        "    data=dd1,\n",
        "    x=\"Month\",\n",
        "    y=\"Level of Pollen Release (flowers)\",\n",
        "    aspect=3,\n",
        "    height=4,\n",
        "    hue=\"Year\",\n",
        "    kind=\"line\",\n",
        "    palette=\"viridis\"\n",
        ")\n",
        "plt.title(\"\"\"Pollen released by oak trees in California in 2012, 2015, 2018, and 2021\"\"\");\n"
      ]
    },
    {
      "cell_type": "markdown",
      "source": [
        "##Check-in Question:\n",
        "It appears that the amount of pollen release are equally low in October, November, and December. Let's further filter the data to focus on the pollen release in the fall. In the previous [Step 7.2](#filterdata), we run the code `dd1 = p_df[p_df.Year.isin([2012,2015,2018,2021])]` to filter data for Years 2012, 2015, 2018, 2021 and store the results in a DataFrame called `dd1`. In the code cell below, use the DataFrame `dd1` and the `isin()` method to further filter by month and store the results in a DataFrame called `dd2`."
      ],
      "metadata": {
        "id": "y8aPlMgS2dJs"
      }
    },
    {
      "cell_type": "code",
      "source": [
        "# Replace XXX with your own code\n",
        "\n",
        "# Filter the data to only contain months \"Oct\", \"Nov\", and \"Dec\" using the DataFrame dd1\n",
        "dd2 = dd1[dd1.XXX.XXX([\"Oct\",XXX,XXX])]\n",
        "\n",
        "# Diplay the DataFrame dd2\n",
        "dd2"
      ],
      "metadata": {
        "id": "7op2ks1ByPO8"
      },
      "execution_count": null,
      "outputs": []
    },
    {
      "cell_type": "code",
      "source": [
        "# @title Check your answer\n",
        "# Filter the data to only contain months \"Oct\", \"Nov\", and \"Dec\" using the DataFrame dd1\n",
        "dd2 = dd1[dd1.Month.isin([\"Oct\", \"Nov\", \"Dec\"])]\n",
        "dd2"
      ],
      "metadata": {
        "cellView": "form",
        "id": "9DsivXOF01X8"
      },
      "execution_count": null,
      "outputs": []
    },
    {
      "cell_type": "markdown",
      "source": [
        "### Generate a plot to examine the pollen release level for the months of \"Oct\", \"Nov\", and \"Dec\" using the filtered data stored in DataFrame `dd2`.\n",
        "\n",
        "Run the following code cell to see examine the pollen release level for Oct, Nov, and Dec. In this plot, we use the same `relplot` settings as [the previous plot in Step 7.3](#relplot), but we choose not to use `hue=\"Year\"` to separate the plots by year since we just want to see the overall trend."
      ],
      "metadata": {
        "id": "SzeD-qNi3AnX"
      }
    },
    {
      "cell_type": "code",
      "source": [
        "sns.relplot(data=dd2, y=\"Level of Pollen Release (flowers)\", x=\"Month\", kind=\"line\");\n",
        "plt.title(\"\"\"Pollen released by oak trees in California in the fall of 2012, 2015, 2018, and 2021\"\"\");"
      ],
      "metadata": {
        "id": "1O9Z7b4X1b4J"
      },
      "execution_count": null,
      "outputs": []
    },
    {
      "cell_type": "markdown",
      "source": [
        "# Exercise 1 Check-in Questions:\n",
        "\n",
        "Instructions: Edit text or code cells below to respond to the following questions:\n",
        "\n",
        "### **Question 1**: Based on the pollen release data for California in the years 2012, 2015, 2018, and 2021, which month(s) had the highest levels of pollen release? ##\n",
        "\n",
        "*   Your answer here:\n",
        "\n",
        "\n",
        "### **Question 2**: Based on the pollen release data for California in the years 2012, 2015, 2018, and 2021, which month(s) had the lowest levels of pollen release? ##\n",
        "\n",
        "*   Your answer here:\n",
        "\n",
        "\n",
        "### **Question 3**: Can you propose reasons for the spike in Apr during 2012 and the peak in Sep for 2018?\n",
        "\n",
        "*   Your answer here:\n",
        "\n",
        "\n",
        "### **Question 4**: Observe the plot above and take note of the solid thin lines surrounded by shaded regions. Do you know what these shaded regions might represent? ##\n",
        "\n",
        "*   Your answer here:\n",
        "\n",
        "\n",
        "### **Question 5**: In the code cell below, create your own plot with 4 years of your choice to compare the monthly pollen release levels. You can refer to the [code in Part 7](#relplot) for the plot we created earlier.\n",
        "\n"
      ],
      "metadata": {
        "id": "CHlXsVz9JHuv"
      }
    },
    {
      "cell_type": "code",
      "source": [
        "## Check-in Question 5:\n",
        "\n",
        "## Your code here."
      ],
      "metadata": {
        "id": "JiINTwpN00Lc"
      },
      "execution_count": null,
      "outputs": []
    },
    {
      "cell_type": "markdown",
      "source": [
        "# Exercise 2 - Where can we locate various species of oak trees in California?\n",
        "\n",
        "Oak trees play a crucial role as habitats for various wildlife species. When we map the locations of these trees, we can pinpoint the vital habitats that require preservation and restoration. Furthermore, by knowing where different oak species flourish on the map, we gain valuable insights into how well they adapt to specific climates and soil conditions. This knowledge is essential for planting and managing trees that can withstand changing environmental conditions. The act of mapping oak tree species aids researchers and ecologists in understanding how these trees are distributed across various regions. This understanding deepens our insights into the local ecosystems and biodiversity found in California."
      ],
      "metadata": {
        "id": "fIDoQjOrKXEj"
      }
    },
    {
      "cell_type": "markdown",
      "metadata": {
        "id": "BJuPNuzLzk19"
      },
      "source": [
        "##Create an interactive map visualization for oak trees found in California in different years\n",
        "\n",
        "To plot the map, we will use the Individual Phenometrics downloaded from USA-NPN (https://data.usanpn.org/observations), which is separate from the Phenometrics dataset used in Exercise 1. The data is stored in csv format in the following git repository: https://raw.githubusercontent.com/csbfx/apex/main/data/individual_phenometrics_data.csv"
      ]
    },
    {
      "cell_type": "markdown",
      "source": [
        "#Part 1. Obtain the longitude and latitude coordinates of California for creating an interactive map\n",
        "\n",
        "We will need to install two python library for creating map visualizations, `folium` and `geopy`. Run the following code to use the `geopy` library to obtain the longitude and latitude coordinates for California. We will need this piece of information to create the interactive map."
      ],
      "metadata": {
        "id": "9aq67So04J9x"
      }
    },
    {
      "cell_type": "code",
      "execution_count": null,
      "metadata": {
        "id": "kgJp3GT5zk1_"
      },
      "outputs": [],
      "source": [
        "# import geopy\n",
        "from geopy.exc import GeocoderTimedOut\n",
        "from geopy.geocoders import Nominatim\n",
        "# import folium package\n",
        "import folium\n",
        "\n",
        "# Create a function to find the coordinate of a given name of a city or state\n",
        "def findGeocode(name):\n",
        "    # try and catch is used to overcome the exception thrown by geolocator\n",
        "    # using geocodertimedout\n",
        "    try:\n",
        "        # Specify the user_agent as your app name and it should not be none\n",
        "        geolocator = Nominatim(user_agent=\"APEX_SJSU\")\n",
        "        return geolocator.geocode(name)\n",
        "    except GeocoderTimedOut:\n",
        "        return None\n",
        "\n",
        "# Run the findGeocode function to find the longitude and latitude of California\n",
        "loc = findGeocode(\"California\")\n",
        "ca_lat = loc.latitude\n",
        "ca_long = loc.longitude\n",
        "\n",
        "print(ca_lat, ca_long)"
      ]
    },
    {
      "cell_type": "markdown",
      "source": [
        "##Part 2. Load the data from the git repository into a Pandas DataFrame"
      ],
      "metadata": {
        "id": "4F-VABmBKyA5"
      }
    },
    {
      "cell_type": "code",
      "execution_count": null,
      "metadata": {
        "id": "UrCQ7Ge3zk2A"
      },
      "outputs": [],
      "source": [
        "# Load the individual phenometrics data into a dataframe\n",
        "df3 = pd.read_csv('https://raw.githubusercontent.com/csbfx/apex/main/data/individual_phenometrics_data.csv')\n",
        "df3"
      ]
    },
    {
      "cell_type": "markdown",
      "source": [
        "##Part 3. Explore the data\n",
        "Find the unique common name of all the oak trees in this data set. We will use the `unique()` function of the DataFrame `df3`. <a name=\"unique_oak\"></a>"
      ],
      "metadata": {
        "id": "neS9tQIlK4mY"
      }
    },
    {
      "cell_type": "code",
      "execution_count": null,
      "metadata": {
        "id": "i_0Q4gLrzk2A"
      },
      "outputs": [],
      "source": [
        "# Find the unique Common_Name of all the oak trees in this data set.\n",
        "unique_oak = df3['Common_Name'].unique()\n",
        "\n",
        "print(unique_oak)"
      ]
    },
    {
      "cell_type": "markdown",
      "source": [
        "### Check-in Question\n",
        "In the code cell below, use the Python built-in function `len()` on the variable `unique_oak` [above](#unique_oak) to determine how many values are stored in the variable. Here is a [tutorial page](https://www.w3schools.com/python/ref_func_len.asp) of the `len()` function."
      ],
      "metadata": {
        "id": "4lZEp-P-7rPE"
      }
    },
    {
      "cell_type": "code",
      "source": [
        "# Check-in Question\n",
        "\n",
        "# How many values are stored in the variable unique_oak\n",
        "# Replace XXXX with your own code\n",
        "\n",
        "len(XXXX)"
      ],
      "metadata": {
        "id": "yCiTI3Kj7cdu"
      },
      "execution_count": null,
      "outputs": []
    },
    {
      "cell_type": "code",
      "source": [
        "# @title Check your answer\n",
        "\n",
        "# How many values are stored in the variable unique_oak\n",
        "len(unique_oak)"
      ],
      "metadata": {
        "cellView": "form",
        "id": "c06hurb38TQV"
      },
      "execution_count": null,
      "outputs": []
    },
    {
      "cell_type": "markdown",
      "source": [
        "##Part 4. Generate a list of colors that can be used to represent different types of oak trees as data points on the map.\n",
        "\n",
        "In order to visually represent distinct oak species on the map, we will allocate a distinct color to each oak type. From the previous step, we learn that our dataset has 13 different types of oak trees.\n",
        "\n",
        "We will use the 10 built-in `TABLEAU_COLORS` from the `matplotlib` library and add another 10 randomly generated colors. The [Matplotlib library](https://matplotlib.org/) is a widely-used Python library for creating static, interactive, and animated visualizations in a variety of formats. It provides a flexible and comprehensive set of tools for generating high-quality graphs, charts, and other visualizations for data analysis, scientific research, and presentation purposes.\n",
        "\n",
        "Run the following cell to create the list `colorList` that stores 20 different colors (10 from Matplotlib's TABLEAU_COLORS and 10 from randomly generated colors). We will use the `colorList` in the next step to create the map."
      ],
      "metadata": {
        "id": "-a90k9JKLNZM"
      }
    },
    {
      "cell_type": "code",
      "execution_count": 16,
      "metadata": {
        "id": "hmym6XYEzk2A"
      },
      "outputs": [],
      "source": [
        "# Create a list of colors for the data points in the plot\n",
        "import matplotlib.colors as mcolors\n",
        "import random\n",
        "\n",
        "cdict = mcolors.TABLEAU_COLORS #  10 colors in this set\n",
        "colorList = []\n",
        "for c in cdict:\n",
        "    colorList.append(cdict[c])\n",
        "\n",
        "for i in range(10): # add 10 more random colors to the colorList\n",
        "    color = \"%06x\" % random.randint(0, 0xFFFFFF)\n",
        "    colorList.append(\"#\"+color)"
      ]
    },
    {
      "cell_type": "markdown",
      "metadata": {
        "id": "vn253NfVzk2B"
      },
      "source": [
        "##Part 5. Create an interactive map to show the abundance and locations of oak trees in California\n",
        "\n",
        "The following function `createMap()` is created for you to create the map to visualize the locations of the oak trees. Run the cell below to enable the `createMap()` function."
      ]
    },
    {
      "cell_type": "code",
      "execution_count": 17,
      "metadata": {
        "id": "8dR96RVSzk2B"
      },
      "outputs": [],
      "source": [
        "# Part 5.1 Create a function that generates the map using year as input\n",
        "\n",
        "def createMap(year):\n",
        "    # Create a dictionary to assign a color to each of the oak tree for plotting\n",
        "    oakColor={}\n",
        "    idx = 0\n",
        "    for oakname in df3['Common_Name'].value_counts().index:\n",
        "        oakColor[oakname] = colorList[idx] # This is the colorList we created in the previous code cell\n",
        "        idx += 1\n",
        "\n",
        "    # Create different types of map style options: catodbpositron, stamenterrain, and openstreetmap\n",
        "    oakmap = folium.Map(location=[ca_lat, ca_long], zoom_start=6, tiles='cartodbpositron')\n",
        "    folium.TileLayer('stamenterrain').add_to(oakmap)\n",
        "    folium.TileLayer('openstreetmap').add_to(oakmap)\n",
        "\n",
        "    # Legend text color\n",
        "    lgd_txt = '<span style=\"color: {col};\">{txt}</span>'\n",
        "    # We will plot the top 5 most abundant oak trees found in the dataset in that year\n",
        "    for oak in df3[(df3['Last_Yes_Year']==year)]['Common_Name'].value_counts()[:5].index:\n",
        "        df4 = df3[(df3['Common_Name']==oak)]\n",
        "        group0 = folium.FeatureGroup(name=lgd_txt.format(txt=oak, col=oakColor[oak]))\n",
        "        for i in range(0,len(df4)):\n",
        "            lat = float(df4.iloc[i]['Latitude'])\n",
        "            long_ = float(df4.iloc[i]['Longitude'])\n",
        "            folium.CircleMarker(location=(lat, long_), color=oakColor[oak], tooltip='<b>'+oak+'</b>', radius=2).add_to(group0)\n",
        "        group0.add_to(oakmap)\n",
        "\n",
        "    folium.map.LayerControl('bottomleft', collapsed=False).add_to(oakmap)\n",
        "    return oakmap"
      ]
    },
    {
      "cell_type": "markdown",
      "source": [
        "### Run the cell below to examine where all the oak trees are found in 2015 in California <a name=\"map\"></a>\n",
        "\n",
        "In the map visulization below, you can hover the data point to see the common name of the oak tree. The legend of the map is also interactive. You can use the radiobuttons to choose three different types of maps: `catodbpositron`, `stamenterrain`, and `openstreetmap`. You can also click the checkboxes to choose which oak tree you want to include in the map.\n",
        "\n",
        " **Note**: When your mouse cursor is positioned over the map, scrolling will result in zooming in or out of the map. To scroll up or down within the notebook, make sure your mouse cursor is located outside of the map area."
      ],
      "metadata": {
        "id": "Z7Sd3gPvOFT7"
      }
    },
    {
      "cell_type": "code",
      "execution_count": null,
      "metadata": {
        "id": "d9sNaAfkzk2C"
      },
      "outputs": [],
      "source": [
        "# 5.2 Run the createMap() function to generate the interactive map for a particular year\n",
        "\n",
        "year = 2015\n",
        "print(f'Locations of oak trees in California in {year}')\n",
        "\n",
        "# Run the createMap function to generate the map\n",
        "oakmap = createMap(year)\n",
        "# Display the map in this notebook\n",
        "display(oakmap)"
      ]
    },
    {
      "cell_type": "markdown",
      "source": [
        "## Exercise 2 Check in Questions:\n",
        "\n",
        "Instructions: Edit the text or code cells below to respond to the following questions:"
      ],
      "metadata": {
        "id": "qFWxYjwI5b2Y"
      }
    },
    {
      "cell_type": "markdown",
      "source": [
        "### **Question 1**: Do California live oak and California black oak typically found in mountains or valleys in California? To view the terrain where these oak trees are typically found, select the radio button next to **`stamenterrain`** to update the map.\n",
        "\n",
        "* Your answer here"
      ],
      "metadata": {
        "id": "vf01oHBSNIeO"
      }
    },
    {
      "cell_type": "markdown",
      "source": [
        "### **Question 2**: Use the code cell below to create a map to show where all the oak trees are found in 2013 in California. Hint: refer to the code example [above](#map)."
      ],
      "metadata": {
        "id": "l0ecJA0O-WqD"
      }
    },
    {
      "cell_type": "code",
      "source": [
        "## Exersise 2, Check-in Question 2\n",
        "\n",
        "## Your code here . . ."
      ],
      "metadata": {
        "id": "KH_HPzrQ-3Th"
      },
      "execution_count": null,
      "outputs": []
    },
    {
      "cell_type": "code",
      "source": [
        "# @title Check your answer\n",
        "## Exersise 2, Check-in Question 2\n",
        "## Solution\n",
        "\n",
        "year = 2013\n",
        "print(f'Location of oak trees in California in {year}')\n",
        "\n",
        "# Run the createMap function to generate the map\n",
        "oakmap = createMap(year)\n",
        "# Display the map in this notebook\n",
        "display(oakmap)"
      ],
      "metadata": {
        "cellView": "form",
        "id": "Ljdh-oan_DZ5"
      },
      "execution_count": null,
      "outputs": []
    },
    {
      "cell_type": "markdown",
      "source": [
        "### **Question 3**: Which oak tree species are present in 2015 but absent in 2013? Hint: Compare the list of oak trees in the maps for 2013 and 2015.\n",
        "\n",
        "* Your answer here"
      ],
      "metadata": {
        "id": "vxFjTm6oAKXn"
      }
    }
  ],
  "metadata": {
    "kernelspec": {
      "display_name": "Python 3",
      "language": "python",
      "name": "python3"
    },
    "language_info": {
      "codemirror_mode": {
        "name": "ipython",
        "version": 3
      },
      "file_extension": ".py",
      "mimetype": "text/x-python",
      "name": "python",
      "nbconvert_exporter": "python",
      "pygments_lexer": "ipython3",
      "version": "3.7.6"
    },
    "colab": {
      "provenance": [],
      "include_colab_link": true
    }
  },
  "nbformat": 4,
  "nbformat_minor": 0
}