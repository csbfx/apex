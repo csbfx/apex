{
  "nbformat": 4,
  "nbformat_minor": 0,
  "metadata": {
    "colab": {
      "provenance": [],
      "include_colab_link": true
    },
    "kernelspec": {
      "display_name": "Python 3",
      "language": "python",
      "name": "python3"
    },
    "language_info": {
      "codemirror_mode": {
        "name": "ipython",
        "version": 3
      },
      "file_extension": ".py",
      "mimetype": "text/x-python",
      "name": "python",
      "nbconvert_exporter": "python",
      "pygments_lexer": "ipython3",
      "version": "3.7.6"
    }
  },
  "cells": [
    {
      "cell_type": "markdown",
      "metadata": {
        "id": "view-in-github",
        "colab_type": "text"
      },
      "source": [
        "<a href=\"https://colab.research.google.com/github/csbfx/apex/blob/main/Answer_Key_APEX_Bioinformatics_Cancer_Genetics.ipynb\" target=\"_parent\"><img src=\"https://colab.research.google.com/assets/colab-badge.svg\" alt=\"Open In Colab\"/></a>"
      ]
    },
    {
      "cell_type": "markdown",
      "metadata": {
        "id": "-IJR_ISEmvhY"
      },
      "source": [
        "# Exploring Bioinformatics with Python Programming: A Case Study on BRCA1's Role in Breast Cancer: KEY\n",
        "#### Created by Wendy Lee, Najelie Crivelli, Michelle Jin, Ravneet Kaur, Akiko Balitactac, Inika Bhatia, Valerie Carr, Morris Jones, and Jennifer Avena.\n",
        "#### Last updated: June 30, 2023\n",
        "#### Licensed under CC BY-NC-SA\n",
        "\n",
        "\n",
        "### Learning objectives:\n",
        "  1. Using computing, determine the RNA and protein sequence from the DNA sequence of a gene, and compare gene sequences.\n",
        "  2. Predict the effects of mutations on protein function.\n"
      ]
    },
    {
      "cell_type": "markdown",
      "metadata": {
        "id": "jBIHeG32_2YT"
      },
      "source": [
        "## Transcription: DNA -> RNA\n",
        "\n",
        "\n",
        "\n"
      ]
    },
    {
      "cell_type": "code",
      "metadata": {
        "id": "DxtCppcqDztt",
        "colab": {
          "base_uri": "https://localhost:8080/"
        },
        "outputId": "a6078714-f1ec-4ab0-b228-d50a9aef07b1"
      },
      "source": [
        "emily_dna = \"TTTTGCATGCTGAAACTTCTCAACCAGAAGAAAGGGCCTTCACAGGGTCCTTTATGTAAGAATGATATAACCAAAAG\"\n",
        "emily_rna = emily_dna.replace(\"T\", \"U\")\n",
        "print(\"Emily's rna:\", emily_rna)"
      ],
      "execution_count": null,
      "outputs": [
        {
          "output_type": "stream",
          "name": "stdout",
          "text": [
            "Emily's rna: UUUUGCAUGCUGAAACUUCUCAACCAGAAGAAAGGGCCUUCACAGGGUCCUUUAUGUAAGAAUGAUAUAACCAAAAG\n"
          ]
        }
      ]
    },
    {
      "cell_type": "code",
      "metadata": {
        "id": "sWXsToK3v0Vj",
        "colab": {
          "base_uri": "https://localhost:8080/"
        },
        "outputId": "71c4cd33-5887-447f-9dd4-82569cf9fb36"
      },
      "source": [
        "annie_dna = \"TTTTGCATGCTGAAACTTCTCAACCAGAAGAAAGGGCCTTCACAGTGTCCTTTATGTAAGAATGATATAACCAAAAG\"\n",
        "# indicate your command here to replace coding strand T's with RNA U's\n",
        "annie_rna = annie_dna.replace(\"T\", \"U\")\n",
        "# indicate a command here to display (i.e., \"print\") the RNA sequence\n",
        "print(\"Annie's rna:\", annie_rna)\n"
      ],
      "execution_count": null,
      "outputs": [
        {
          "output_type": "stream",
          "name": "stdout",
          "text": [
            "Annie's rna: UUUUGCAUGCUGAAACUUCUCAACCAGAAGAAAGGGCCUUCACAGUGUCCUUUAUGUAAGAAUGAUAUAACCAAAAG\n"
          ]
        }
      ]
    },
    {
      "cell_type": "markdown",
      "metadata": {
        "id": "nsW6tsYlEPhJ"
      },
      "source": [
        "# Translation: RNA -> Protein\n",
        "\n"
      ]
    },
    {
      "cell_type": "code",
      "metadata": {
        "id": "NvqleF9voZt3",
        "colab": {
          "base_uri": "https://localhost:8080/"
        },
        "outputId": "1087561c-0570-419a-ec9e-9e6b4298f791"
      },
      "source": [
        "# Translate DNA sequence to amino acid sequence\n",
        "\n",
        "def translate(seq):\n",
        "    \"\"\"Translate a DNA sequence to an amino acid sequence.\"\"\"\n",
        "\n",
        "    # the following is a Python dictionary that stores\n",
        "    # the codons and amino acids as key:value pairs.\n",
        "    geneticode = {\n",
        "    'ATA':'I', 'ATC':'I', 'ATT':'I', 'ATG':'M',\n",
        "    'ACA':'T', 'ACC':'T', 'ACG':'T', 'ACT':'T',\n",
        "    'AAC':'N', 'AAT':'N', 'AAA':'K', 'AAG':'K',\n",
        "    'AGC':'S', 'AGT':'S', 'AGA':'R', 'AGG':'R',\n",
        "    'CTA':'L', 'CTC':'L', 'CTG':'L', 'CTT':'L',\n",
        "    'CCA':'P', 'CCC':'P', 'CCG':'P', 'CCT':'P',\n",
        "    'CAC':'H', 'CAT':'H', 'CAA':'Q', 'CAG':'Q',\n",
        "    'CGA':'R', 'CGC':'R', 'CGG':'R', 'CGT':'R',\n",
        "    'GTA':'V', 'GTC':'V', 'GTG':'V', 'GTT':'V',\n",
        "    'GCA':'A', 'GCC':'A', 'GCG':'A', 'GCT':'A',\n",
        "    'GAC':'D', 'GAT':'D', 'GAA':'E', 'GAG':'E',\n",
        "    'GGA':'G', 'GGC':'G', 'GGG':'G', 'GGT':'G',\n",
        "    'TCA':'S', 'TCC':'S', 'TCG':'S', 'TCT':'S',\n",
        "    'TTC':'F', 'TTT':'F', 'TTA':'L', 'TTG':'L',\n",
        "    'TAC':'Y', 'TAT':'Y', 'TAA':'*', 'TAG':'*',\n",
        "    'TGC':'C', 'TGT':'C', 'TGA':'*', 'TGG':'W',\n",
        "    }\n",
        "\n",
        "    length = len(seq)\n",
        "\n",
        "    # Save the amino acid sequence in a list called protein\n",
        "    protein = []\n",
        "    for pos in range(0,length-2,3):\n",
        "        codon = seq[pos:pos+3].upper()\n",
        "        # Get the appropriate amino acid from the dictionary\n",
        "        aa = geneticode[codon]\n",
        "        protein.append(aa)\n",
        "        if aa == \"*\": # when we see a stop codon \"*\"\n",
        "            return \"\".join(protein) # return the protein sequence\n",
        "    # return the protein sequence when we finish processing all the codons\n",
        "    return \"\".join(protein)\n",
        "\n",
        "\n",
        "# Main program\n",
        "emily_dna = \"TTTTGCATGCTGAAACTTCTCAACCAGAAGAAAGGGCCTTCACAGGGTCCTTTATGTAAGAATGATATAACCAAAAG\"\n",
        "emily_protein = translate(emily_dna)\n",
        "print(\"Emily's protein sequence: \" + emily_protein)"
      ],
      "execution_count": null,
      "outputs": [
        {
          "output_type": "stream",
          "name": "stdout",
          "text": [
            "Emily's protein sequence: FCMLKLLNQKKGPSQGPLCKNDITK\n"
          ]
        }
      ]
    },
    {
      "cell_type": "code",
      "metadata": {
        "id": "wGrqYQ2cxC2_",
        "colab": {
          "base_uri": "https://localhost:8080/"
        },
        "outputId": "5c94fd31-9ec4-4aa0-885c-ddca276fa22d"
      },
      "source": [
        "annie_dna = \"TTTTGCATGCTGAAACTTCTCAACCAGAAGAAAGGGCCTTCACAGTGTCCTTTATGTAAGAATGATATAACCAAAAG\"\n",
        "#indicate your command here to translate the DNA sequence\n",
        "annie_protein = translate(annie_dna)\n",
        "#indicate a command here to display (i.e., \"print\") the protein sequence\n",
        "print(\"Annie's protein sequence: \" + annie_protein)"
      ],
      "execution_count": null,
      "outputs": [
        {
          "output_type": "stream",
          "name": "stdout",
          "text": [
            "Annie's protein sequence: FCMLKLLNQKKGPSQCPLCKNDITK\n"
          ]
        }
      ]
    },
    {
      "cell_type": "markdown",
      "metadata": {
        "id": "SlwCjC8GRwp2"
      },
      "source": [
        "## Exercise 1 Check-in Questions\n",
        "\n",
        "Instructions: Edit this text cell to respond to the following questions:\n",
        "\n",
        "Why do you predict we are focusing on the sequence of an exon, instead of an intron?\n",
        "\n",
        "*   Your answer here: Exons contain the region of the gene that is expressed as protein, while introns do not.  Thus, mutations in exons have the potential to affect the protein sequence and function.\n",
        "\n",
        "Predict what a mutation in an exon of BRCA1 may have on the function of the BRCA1 protein.\n",
        "\n",
        "*   Your answer here: The effect of the mutation depends on the type of mutation.  A missense mutation will change the sequence of the protein and thus potentially alter the protein function.  A nonsense mutation would lead to a shorter protein, likely affecting function. A silent mutation will not change the amino acid sequence and thus not affect the function.  Deletions and insertions also may likely affect protein function.\n",
        "\n"
      ]
    },
    {
      "cell_type": "markdown",
      "metadata": {
        "id": "xFOykJsY5dW7"
      },
      "source": [
        "----\n",
        "# Exercise 2 - Pairwise sequence comparisons\n",
        "\n",
        "\n",
        "## Exercise 2A - Pairwise Comparison: Emily's Sequence with Known Wild Type Sequence\n"
      ]
    },
    {
      "cell_type": "code",
      "metadata": {
        "id": "8EXq3rXSakEc",
        "colab": {
          "base_uri": "https://localhost:8080/"
        },
        "outputId": "1024edfe-89da-4874-9937-50a03861bbec"
      },
      "source": [
        "# Comparing NCBI wild type DNA sequence to Emily's DNA sequence\n",
        "emily_dna = \"TTTTGCATGCTGAAACTTCTCAACCAGAAGAAAGGGCCTTCACAGGGTCCTTTATGTAAGAATGATATAACCAAAAG\"\n",
        "wildtype_dna = \"TTTTGCATGCTGAAACTTCTCAACCAGAAGAAAGGGCCTTCACAGTGTCCTTTATGTAAGAATGATATAACCAAAAG\"\n",
        "\n",
        "# We will print a \".\" symbol between Emily's DNA and NCBI's sequence at the position where the bases are different\n",
        "# If the bases are the same between the two sequences, we will put a \"|\" symbol in between the two sequences.\n",
        "\n",
        "symbol = \"\" # create a new empty string to hold the symbols to indicate if the bases are identical or not\n",
        "for i in range(len(emily_dna)): # going through the sequence base by base\n",
        "    if emily_dna[i].upper()==wildtype_dna[i].upper(): # check to see if the bases are different\n",
        "        symbol += \"|\" # add | if the nucleotides between the two sequences are the same\n",
        "    else:\n",
        "        symbol += \".\" # add . if the nucleotides between the two sequences are not the same\n",
        "\n",
        "print(\"{}\\n{}\\n{}\".format(emily_dna.upper(),symbol,wildtype_dna.upper()))\n",
        "\n",
        "\n",
        "# Comparison of Emily's protein to wildtype protein\n",
        "\n",
        "wildtype_protein = translate(wildtype_dna) # we need to translate the wildtype DNA to its corresponding protein sequence\n",
        "emily_protein = translate(emily_dna)\n",
        "\n",
        "symbol = \" \"*18 # create a string with 18 spaces\n",
        "for i in range(len(emily_protein)): # going through the sequence amino acid by amino acid\n",
        "    if emily_protein[i].upper()==wildtype_protein[i].upper(): # check to see if the amino acids are different\n",
        "        symbol += \"|\" # add | if the amino acid between the two sequences are the same\n",
        "    else:\n",
        "        symbol += \".\" # add . if the amino acid between the two sequences are not the same\n",
        "print(\"\\nEmily's protein:  {}\\n{}\\nWildtype protein: {}\".format(emily_protein.upper(), symbol, wildtype_protein.upper()))\n"
      ],
      "execution_count": null,
      "outputs": [
        {
          "output_type": "stream",
          "name": "stdout",
          "text": [
            "TTTTGCATGCTGAAACTTCTCAACCAGAAGAAAGGGCCTTCACAGGGTCCTTTATGTAAGAATGATATAACCAAAAG\n",
            "|||||||||||||||||||||||||||||||||||||||||||||.|||||||||||||||||||||||||||||||\n",
            "TTTTGCATGCTGAAACTTCTCAACCAGAAGAAAGGGCCTTCACAGTGTCCTTTATGTAAGAATGATATAACCAAAAG\n",
            "\n",
            "Emily's protein:  FCMLKLLNQKKGPSQGPLCKNDITK\n",
            "                  |||||||||||||||.|||||||||\n",
            "Wildtype protein: FCMLKLLNQKKGPSQCPLCKNDITK\n"
          ]
        }
      ]
    },
    {
      "cell_type": "markdown",
      "metadata": {
        "id": "15u0jKjn1Xwp"
      },
      "source": [
        "##Exercise 2A Check-in Questions\n",
        "Instructions: Edit this text cell to respond to the following questions.\n",
        "\n",
        "Does Emily's BRCA1 gene contain a mutation?  If so, what type of mutation is this and what effect would it have on the BRCA1 protein?\n",
        "\n",
        "*   Your answer here:Yes, it contains a substitution that is specifically a missense mutation, changing one nucleotide from a T to G and thus the amino acid C to G.  \n",
        "\n",
        "What may be the likely cause of Emily's diagnosed breast cancer?\n",
        "\n",
        "* Your answer here: This missense mutation likely leads to an alteration in the function of the BRCA1 protein, so that it no longer functions in the cell cycle as it typically would, potentially leading to excessive cell division.  Since she has only this mutated sequence of DNA in her cancer cells, both copies of her BRCA1 gene may contain this same mutation or her cancer cells may have only 1 copy of the BRCA1 gene (i.e., loss of heterozygosity). This, along with mutations in other genes, could then lead to cancer.\n",
        "\n",
        "What medical and/or ethical questions might Emily and her doctor consider before sharing the results with her family?\n",
        "\n",
        "* Your answer here: It would be useful to test Emily's non-cancer cells to identify whether she carries the BRCA1 mutation detected in all her cells.  Since breast cancer is present in her family history, this allele may be present in other members of her family.  If other members of the family do indeed carry this allele (i.e., have one mutated allele and one wild-type allele), this can increase the likelihood they may develop cancer.  Knowledge of their carrier status could inform whether they choose to take preventative measures, such as a masectomy (surgical removal of the breasts)."
      ]
    },
    {
      "cell_type": "markdown",
      "metadata": {
        "id": "u6XWHhO8lCpQ"
      },
      "source": [
        "# Exercise 2B - Pairwise Comparison: Annie's Sequence with Known Wild Type Sequence\n"
      ]
    },
    {
      "cell_type": "code",
      "metadata": {
        "id": "nJ9kk3wK8MNp",
        "colab": {
          "base_uri": "https://localhost:8080/"
        },
        "outputId": "bc43c27f-1ec9-482a-8b3a-8fc56eba5105"
      },
      "source": [
        "# Comparing NCBI wild-type DNA sequence to Annie's DNA sequence\n",
        "annie_dna = \"TTTTGCATGCTGAAACTTCTCAACCAGAAGAAAGGGCCTTCACAGTGTCCTTTATGTAAGAATGATATAACCAAAAG\"\n",
        "wildtype_dna = \"TTTTGCATGCTGAAACTTCTCAACCAGAAGAAAGGGCCTTCACAGTGTCCTTTATGTAAGAATGATATAACCAAAAG\" # insert retrieved NCBI DNA sequence here (specifically exon 4)\n",
        "\n",
        "# We will print a \".\" symbol between Annie's dna and NCBI's sequence at the position where the bases are different\n",
        "# If the bases are the same between the two sequences, we will put a \"|\" symbol in between the two sequences.\n",
        "\n",
        "symbol = \"\" # create a new empty string to hold the symbols to indicate if the bases are identical or not\n",
        "for i in range(len(annie_dna)): # going through the sequence base by base\n",
        "    if annie_dna[i].upper()==wildtype_dna[i].upper(): # check to see if the bases are different\n",
        "        symbol += \"|\" # add | if the nucleotides between the two sequences are the same\n",
        "    else:\n",
        "        symbol += \".\" # add . if the nucleotides between the two sequences are not the same\n",
        "\n",
        "print(\"{}\\n{}\\n{}\".format(annie_dna.upper(),symbol,wildtype_dna.upper()))\n",
        "\n",
        "\n",
        "# Comparison of Annie's protein to wildtype protein\n",
        "\n",
        "wildtype_protein = translate(wildtype_dna) # we need to translate the wildtype DNA to its corresponding protein sequence\n",
        "annie_protein = translate(annie_dna)\n",
        "\n",
        "symbol = \" \"*18 # create a string with 18 spaces\n",
        "for i in range(len(annie_protein)): # going through the sequence amino acid by amino acid\n",
        "    if annie_protein[i].upper()==wildtype_protein[i].upper(): # check to see if the amino acids are different\n",
        "        symbol += \"|\" # add | if the amino acid between the two sequences are the same\n",
        "    else:\n",
        "        symbol += \".\" # add . if the amino acid between the two sequences are not the same\n",
        "print(\"\\nAnnie's protein:  {}\\n{}\\nWildtype protein: {}\".format(annie_protein.upper(), symbol, wildtype_protein.upper()))\n",
        "\n"
      ],
      "execution_count": null,
      "outputs": [
        {
          "output_type": "stream",
          "name": "stdout",
          "text": [
            "TTTTGCATGCTGAAACTTCTCAACCAGAAGAAAGGGCCTTCACAGTGTCCTTTATGTAAGAATGATATAACCAAAAG\n",
            "|||||||||||||||||||||||||||||||||||||||||||||||||||||||||||||||||||||||||||||\n",
            "TTTTGCATGCTGAAACTTCTCAACCAGAAGAAAGGGCCTTCACAGTGTCCTTTATGTAAGAATGATATAACCAAAAG\n",
            "\n",
            "Annie's protein:  FCMLKLLNQKKGPSQCPLCKNDITK\n",
            "                  |||||||||||||||||||||||||\n",
            "Wildtype protein: FCMLKLLNQKKGPSQCPLCKNDITK\n"
          ]
        }
      ]
    },
    {
      "cell_type": "markdown",
      "metadata": {
        "id": "Gr3DeIvYkeUv"
      },
      "source": [
        "## Exercise 2B Check-in Questions\n",
        "\n",
        "Instructions: Edit this text cell to respond to the following questions.\n",
        "\n",
        "\n",
        "Does Annie's BRCA1 gene contain a mutation?  If so, what type of mutation is this and what effect would it have on the BRCA1 protein?\n",
        "\n",
        "*   Your answer here: No, there is no mutation present in this region of the gene examined.\n",
        "\n",
        "\n",
        "Based on these results, what might you suggest to Annie regarding her risk of developing Breast Cancer?  Explain.\n",
        "\n",
        "*   Your answer here: Annie does not have the same mutation as her sister, so she does not have an inherited predisposition to breast cancer due to the mutation that exists in her sister's BRCA1 gene.  However, we could look at the remainder of the BRCA1 gene to see if other mutations exist.  There is a possibility that Annie could develop cancer due to somatic mutations (those that are not inherited) that occur over her lifetime."
      ]
    },
    {
      "cell_type": "markdown",
      "metadata": {
        "id": "Qkchh7waG-dQ"
      },
      "source": [
        "----\n",
        "# Exercise 3: Apply your Programming Skills!\n",
        "\n"
      ]
    },
    {
      "cell_type": "code",
      "metadata": {
        "id": "ppoCcTu-i7_6"
      },
      "source": [
        "olive1_dna = \"TTTTGCATGCTGAAACTTCTCAACCAGAAGAAAGGGCCTTCACAGTGTCCTTTATGTAAGAATGATATAACCAAAAG\"\n",
        "olive2_dna = \"TTTTGCATGCTGAAACTTCTCAACCAGAAGAAAGGGCCTTCACAGGGTCCTTTATGTAAGAATGATATAACCAAAAG\""
      ],
      "execution_count": null,
      "outputs": []
    },
    {
      "cell_type": "markdown",
      "source": [
        "STEP 1: Transcribe the “olive1_dna” and “olive2_dna” sequences to their corresponding mRNA sequences and print the result (name your new mRNA sequences: \"olive1_rna\" and \"olive2_rna\", respectively).."
      ],
      "metadata": {
        "id": "HJQTPbG9hJ78"
      }
    },
    {
      "cell_type": "code",
      "metadata": {
        "id": "Ielz_ws_Ke8Y",
        "colab": {
          "base_uri": "https://localhost:8080/"
        },
        "outputId": "df2d1db7-4ccb-4ce5-8082-18657d0aa8ea"
      },
      "source": [
        "# STEP 1 - transcribe DNA (use your variables “olive1_dna” and \"olive2_dna\") to mRNA\n",
        "olive1_rna = olive1_dna.replace(\"T\", \"U\")\n",
        "olive2_rna = olive2_dna.replace(\"T\", \"U\")\n",
        "print(\"Olive1's rna:\", olive1_rna)\n",
        "print(\"Olive2's rna:\", olive2_rna)\n"
      ],
      "execution_count": null,
      "outputs": [
        {
          "output_type": "stream",
          "name": "stdout",
          "text": [
            "Olive1's rna: UUUUGCAUGCUGAAACUUCUCAACCAGAAGAAAGGGCCUUCACAGUGUCCUUUAUGUAAGAAUGAUAUAACCAAAAG\n",
            "Olive2's rna: UUUUGCAUGCUGAAACUUCUCAACCAGAAGAAAGGGCCUUCACAGGGUCCUUUAUGUAAGAAUGAUAUAACCAAAAG\n"
          ]
        }
      ]
    },
    {
      "cell_type": "markdown",
      "source": [
        "STEP 2: Translate the  “olive1_dna” and “olive2_dna” sequences to their corresponding amino acid sequences and print the result (name your new protein sequences: \"olive1_protein\" and \"olive2_protein\", respectively)."
      ],
      "metadata": {
        "id": "4NX8xPL0hKaz"
      }
    },
    {
      "cell_type": "code",
      "metadata": {
        "id": "SYDLkPzzKfWe",
        "colab": {
          "base_uri": "https://localhost:8080/"
        },
        "outputId": "57f4bbaf-a00b-4331-a9e5-a50e64069330"
      },
      "source": [
        "# STEP 2 - translate DNA (use your variables “olive1_dna” and \"olive2_dna\") to amino acid sequences\n",
        "olive1_protein = translate(olive1_dna)\n",
        "olive2_protein = translate(olive2_dna)\n",
        "print(\"Olive1's protein:\", olive1_protein)\n",
        "print(\"Olive2's protein:\", olive2_protein)\n"
      ],
      "execution_count": null,
      "outputs": [
        {
          "output_type": "stream",
          "name": "stdout",
          "text": [
            "Olive1's protein: FCMLKLLNQKKGPSQCPLCKNDITK\n",
            "Olive2's protein: FCMLKLLNQKKGPSQGPLCKNDITK\n"
          ]
        }
      ]
    },
    {
      "cell_type": "markdown",
      "source": [
        "STEP 3: Look at the provided code below that compares Olive's BRCA1 DNA sequences and protein sequences to the wild type version that you previously found from NCBI. For this step, you do NOT need to write new code, as we have done this for you; instead, any instance in which you see \"XXXX\", replace it with the appropriate sequence or variable names from your previous code cells, as described below."
      ],
      "metadata": {
        "id": "j33lQL6RhK4-"
      }
    },
    {
      "cell_type": "code",
      "metadata": {
        "id": "9kUiSF4wx8uE",
        "colab": {
          "base_uri": "https://localhost:8080/"
        },
        "outputId": "4d565270-7a12-4b6a-bd2b-04f653872bcd"
      },
      "source": [
        "# STEP 3 - pairwise comparison of Olive's DNA to NCBI wildtype sequence (For this code cell, edit the first line of code only;\n",
        "                                                                        # the remaining code is already complete)\n",
        "\n",
        "# STEP 3 - PART I\n",
        "wildtype_dna = \"TTTTGCATGCTGAAACTTCTCAACCAGAAGAAAGGGCCTTCACAGTGTCCTTTATGTAAGAATGATATAACCAAAAG\" # enter the wildtype portion of exon 4 BRCA1 DNA sequence, EXCLUDING the first nucleotide,  you previously found from NCBI in exercise 2A here\n",
        "\n",
        "# STEP 3 - PART II\n",
        "# Comparison of Olive1's DNA to wildtype DNA\n",
        "\n",
        "symbol = \"\" # create a new empty string to hold the symbols to indicate if the bases are identical or not\n",
        "for i in range(len(olive1_dna)): # going through the sequence base by base\n",
        "    if olive1_dna[i].upper() ==wildtype_dna[i].upper(): # check to see if the bases are different\n",
        "        symbol += \"|\" # add | if the nucleotides between the two sequences are the same\n",
        "    else:\n",
        "        symbol += \".\" # add . if the nucleotides between the two sequenes are not the same\n",
        "\n",
        "print(\"{}\\n{}\\n{}\".format(olive1_dna.upper(), symbol, wildtype_dna.upper()))\n",
        "\n",
        "# Comparison of Olive1's protein to wildtype protein\n",
        "\n",
        "wildtype_protein = translate(wildtype_dna) # we need to translate the wildtype DNA to its corresponding protein sequence\n",
        "\n",
        "symbol = \" \"*18 # create a string with 18 spaces\n",
        "for i in range(len(olive1_protein)): # going through the sequence amino acid by amino acid\n",
        "    if olive1_protein[i].upper()==wildtype_protein[i].upper(): # check to see if the amino acids are different\n",
        "        symbol += \"|\" # add | if the amino acid between the two sequences are the same\n",
        "    else:\n",
        "        symbol += \".\" # add . if the amino acid between the two sequences are not the same\n",
        "print(\"\\nOlive1's protein: {}\\n{}\\nWildtype protein: {}\".format(olive1_protein.upper(), symbol, wildtype_protein.upper()))\n",
        "\n",
        "\n",
        "# STEP 3 - PART III\n",
        "# Comparison of Olive2's DNA to wildtype DNA\n",
        "# Fill in the incomplete code; anytime you see \"XXXX\", replace it with the appropriate variable name for olive2\n",
        "\n",
        "symbol = \"\" # create a new empty string to hold the symbols to indicate if the bases are identical or not\n",
        "for i in range(len(olive2_dna)): # going through the sequence base by base\n",
        "    if olive2_dna[i].upper() ==wildtype_dna[i].upper(): # check to see if the bases are different\n",
        "        symbol += \"|\" # add | if the nucleotides between the two sequences are the same\n",
        "    else:\n",
        "        symbol += \".\" # add . if the nucleotides between the two sequenes are not the same\n",
        "\n",
        "print(\"{}\\n{}\\n{}\".format(olive2_dna.upper(), symbol, wildtype_dna.upper()))\n",
        "\n",
        "# Comparison of Olive2's protein to wildtype protein\n",
        "\n",
        "wildtype_protein = translate(wildtype_dna) # we need to translate the wildtype DNA to its corresponding protein sequence\n",
        "\n",
        "symbol = \" \"*18 # create a string with 18 spaces\n",
        "for i in range(len(olive2_protein)): # going through the sequence amino acid by amino acid\n",
        "    if olive2_protein[i].upper()==wildtype_protein[i].upper(): # check to see if the amino acids are different\n",
        "        symbol += \"|\" # add | if the amino acid between the two sequences are the same\n",
        "    else:\n",
        "        symbol += \".\" # add . if the amino acid between the two sequences are not the same\n",
        "print(\"\\nOlive2's protein: {}\\n{}\\nWildtype protein: {}\".format(olive2_protein.upper(), symbol, wildtype_protein.upper()))"
      ],
      "execution_count": null,
      "outputs": [
        {
          "output_type": "stream",
          "name": "stdout",
          "text": [
            "TTTTGCATGCTGAAACTTCTCAACCAGAAGAAAGGGCCTTCACAGTGTCCTTTATGTAAGAATGATATAACCAAAAG\n",
            "|||||||||||||||||||||||||||||||||||||||||||||||||||||||||||||||||||||||||||||\n",
            "TTTTGCATGCTGAAACTTCTCAACCAGAAGAAAGGGCCTTCACAGTGTCCTTTATGTAAGAATGATATAACCAAAAG\n",
            "\n",
            "Olive1's protein: FCMLKLLNQKKGPSQCPLCKNDITK\n",
            "                  |||||||||||||||||||||||||\n",
            "Wildtype protein: FCMLKLLNQKKGPSQCPLCKNDITK\n",
            "TTTTGCATGCTGAAACTTCTCAACCAGAAGAAAGGGCCTTCACAGGGTCCTTTATGTAAGAATGATATAACCAAAAG\n",
            "|||||||||||||||||||||||||||||||||||||||||||||.|||||||||||||||||||||||||||||||\n",
            "TTTTGCATGCTGAAACTTCTCAACCAGAAGAAAGGGCCTTCACAGTGTCCTTTATGTAAGAATGATATAACCAAAAG\n",
            "\n",
            "Olive2's protein: FCMLKLLNQKKGPSQGPLCKNDITK\n",
            "                  |||||||||||||||.|||||||||\n",
            "Wildtype protein: FCMLKLLNQKKGPSQCPLCKNDITK\n"
          ]
        }
      ]
    },
    {
      "cell_type": "markdown",
      "source": [
        "# Exercise 3 Check-in Questions\n",
        "Instructions: Edit this text cell to respond to the following questions.\n",
        "\n",
        "\n",
        "Does Olive's BRCA1 gene contain a mutation?  If so, which allele(s) contain this mutation, and what type of mutation is this? What effect will this have on the BRCA1 protein?\n",
        "\n",
        "*   Your answer here: Olive has two different alleles of the BRCA1 gene: one wild-type copy and one mutated copy.  The mutated allele is the same as Annie's (missense mutation).  This missense mutation likely leads to an alteration in the function of the BRCA1 protein, so that it no longer functions in the cell cycle checkpoints as it typically would. However, Olive still has a wild-type copy of the gene as well that still provides BRCA1 protein with the appropriate function in the cell cycle.\n",
        "\n",
        "\n",
        "Based on these results, what might you suggest to Olive regarding her risk of developing Breast Cancer?  Explain.\n",
        "\n",
        "*   Your answer here:  Since Olive is a carrier (i.e., have one mutated allele and one wild-type allele) for this mutant BRCA1 allele that was also seen in Emily's cancerous cells, this can increase the likelihood she may develop cancer.  If the remaining wild-type copy of the gene is mutated, this, along with other mutations, can contribute to a cancerous state. She has the option to consider whether she would like to take preventative measures."
      ],
      "metadata": {
        "id": "PxYmWRp-Koa4"
      }
    }
  ]
}