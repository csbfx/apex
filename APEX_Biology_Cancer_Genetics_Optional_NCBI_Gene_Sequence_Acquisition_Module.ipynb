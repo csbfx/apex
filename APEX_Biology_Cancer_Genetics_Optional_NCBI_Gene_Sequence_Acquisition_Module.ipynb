{
  "nbformat": 4,
  "nbformat_minor": 0,
  "metadata": {
    "colab": {
      "provenance": [],
      "include_colab_link": true
    },
    "kernelspec": {
      "display_name": "Python 3",
      "language": "python",
      "name": "python3"
    },
    "language_info": {
      "codemirror_mode": {
        "name": "ipython",
        "version": 3
      },
      "file_extension": ".py",
      "mimetype": "text/x-python",
      "name": "python",
      "nbconvert_exporter": "python",
      "pygments_lexer": "ipython3",
      "version": "3.7.6"
    }
  },
  "cells": [
    {
      "cell_type": "markdown",
      "metadata": {
        "id": "view-in-github",
        "colab_type": "text"
      },
      "source": [
        "<a href=\"https://colab.research.google.com/github/csbfx/apex/blob/main/APEX_Biology_Cancer_Genetics_Optional_NCBI_Gene_Sequence_Acquisition_Module.ipynb\" target=\"_parent\"><img src=\"https://colab.research.google.com/assets/colab-badge.svg\" alt=\"Open In Colab\"/></a>"
      ]
    },
    {
      "cell_type": "markdown",
      "metadata": {
        "id": "-IJR_ISEmvhY"
      },
      "source": [
        "# Exploring Bioinformatics with Python Programming: A Case Study on BRCA1's Role in Breast Cancer\n",
        "##Prepatory Module\n",
        "#### Created by Wendy Lee, Najelie Crivelli, Michelle Jin, Ravneet Kaur, Akiko Balitactac, Inika Bhatia, Valerie Carr, Morris Jones, and Jennifer Avena.\n",
        "#### Last updated: August 8, 2023\n",
        "#### Licensed under CC BY-NC-SA\n",
        "\n",
        "##<font color='#fc03b5'>*NOTES TO INSTRUCTORS:*</font>\n",
        "\n",
        "\n",
        "* <font color='#fc03b5'>*DUE TO CONTINUED UPDATES OF NCBI, THE CURRENT INSTRUCTIONS BELOW MAY BE OUTDATED.  THUS, THIS IS AN OPTIONAL PREPARATORY MODULE TO THE MAIN ACTIVITY MODULE.  SINCE THIS IS AN OPTIONAL PREPARATORY MODULE, THE MAIN ACTIVITY MODULE ALREADY PROVIDES STUDENTS WITH THE DNA SEQUENCE NEEDED.  HOWEVER, IF YOU CHOOSE TO USE THIS PREPARATORY MODULE, PLEASE EDIT YOUR COPY OF THE MAIN ACTIVITY MODULE AS YOU DEEM APPROPRIATE WHERE THE SEQUENCE IS ALREADY PROVIDED.*</font>\n",
        "* <font color='#fc03b5'>*DUE TO CONTINUED UPDATES OF NCBI, THE CURRENT INSTRUCTIONS BELOW MAY BE OUTDATED.  THUS, THIS IS AN OPTIONAL PREPARATORY MODULE TO THE MAIN ACTIVITY MODULE.  SINCE THIS IS AN OPTIONAL PREPARATORY MODULE, THE MAIN ACTIVITY MODULE ALREADY PROVIDES STUDENTS WITH THE DNA SEQUENCE NEEDED.  HOWEVER, IF YOU CHOOSE TO USE THIS PREPARATORY MODULE, PLEASE EDIT YOUR COPY OF THE MAIN ACTIVITY MODULE AS YOU DEEM APPROPRIATE WHERE THE SEQUENCE IS ALREADY PROVIDED.*</font>\n",
        "* <font color='#fc03b5'>*DUE TO CONTINUED UPDATES OF NCBI, THE CURRENT INSTRUCTIONS BELOW MAY BE OUTDATED.  THUS, THIS IS AN OPTIONAL PREPARATORY MODULE TO THE MAIN ACTIVITY MODULE.  SINCE THIS IS AN OPTIONAL PREPARATORY MODULE, THE MAIN ACTIVITY MODULE ALREADY PROVIDES STUDENTS WITH THE DNA SEQUENCE NEEDED.  HOWEVER, IF YOU CHOOSE TO USE THIS PREPARATORY MODULE, PLEASE EDIT YOUR COPY OF THE MAIN ACTIVITY MODULE AS YOU DEEM APPROPRIATE WHERE THE SEQUENCE IS ALREADY PROVIDED.*</font>\n",
        "*   <font color='#fc03b5'>*IF YOU CHOOSE TO USE THIS OPTIONAL MODULE, PLEASE MAKE A COPY OF THIS, TEST THE MODULE, AND MAKE ANY NECESSARY EDITS TO YOUR OWN VERSION PRIOR TO PROVIDING TO STUDENTS.*</font>\n",
        "\n",
        "*   <font color='#fc03b5'>*DELETE THIS \"NOTES TO INSTRUCTORS\" TEXT AND EDIT THE FILE NAME PRIOR TO PROVIDING TO STUDENTS.*</font>\n",
        "\n",
        "### This is a pre-class module that corresponds with in-class programming exercises that are designed to meet the following learning objectives:\n",
        "  1. Using computing, determine the RNA and protein sequence from the DNA sequence of a gene, and compare gene sequences.\n",
        "  2. Predict the effects of mutations on protein function.\n",
        "  \n"
      ]
    },
    {
      "cell_type": "markdown",
      "source": [
        "# BEFORE YOU START: MAKE A COPY\n",
        "* This file is view only, meaning that you can't edit it.\n",
        "    *  To generate an editable copy, select the icon <img src=\"https://www.sjsu.edu/people/wendy.lee/pics/apex/opencolab.png\" valign=\"bottom\"> at the page's upper section. This action will open a new browser tab with the file accessible via Google Colab. Navigate to the top of the notebook and click on the <img src=\"https://www.sjsu.edu/people/wendy.lee/pics/apex/copytodrive.png\" valign=\"bottom\" border=1px> icon. This will result in the opening of a fresh tab containing your personalized copy.\n",
        "    * If you want to refer back to your copy in the future, you can find it in Google Drive in a folder called `Colab Notebooks`."
      ],
      "metadata": {
        "id": "XTQFwMeO14zh"
      }
    },
    {
      "cell_type": "markdown",
      "metadata": {
        "id": "xFOykJsY5dW7"
      },
      "source": [
        "----\n",
        "# Bioinformatics Databases (NCBI): Find a Specific Region of the BRCA1 Gene\n",
        "\n",
        "NCBI, or the National Center for Biotechnology Information, is an online database that provides a large number of resources for biological information and data. It contains a multitude of databases, some of the most relevant being gene databases, protein databases, and nucleotide databases.\n",
        "\n",
        "For this exercise, you are going to search for the wild-type (i.e., typical) BRCA1 gene from NCBI. You will then specifically be obtaining a region of the sequence for exon 4 of this gene. Exons are regions of the gene that are coded into protein, and mutations in BRCA1 exons, including exon 4, have been associated with cancer. You will need this sequence for your in-class assignment.  Please follow the steps below.\n",
        "1. Go to the NCBI home page: https://www.ncbi.nlm.nih.gov/\n",
        "\n",
        "2. Click the top category bar where it says “**All Databases**” and scroll down to click the “**Gene**” database. Here, we are specifying that we want to search specifically in the gene category.\n",
        "\n",
        "3. In the search bar, type “**BRCA1**” (the specific gene where the mutation can occur) and search.\n",
        "\n",
        "4. Locate the first result titled “BRCA1 – BRCA1 DNA repair associated,” and click the link, “**RefSeqGene**.”\n",
        "\n",
        "<img src= \"https://drive.google.com/uc?export=view&id=1Aoz3UhJKtN_36E_oHABBAfBHRaFN671Y\" width=600px>\n",
        "\n",
        "5. This page provides a lot of useful information about the specific gene, including relevant journal publications about the gene, clinical relevance, and more. NCBI provides the entire gene length, just the coding sequence, as well as specific exons. For this module’s purposes, we only want to obtain exon 4 from the BRCA1 gene. To do so:\n",
        "\n",
        "6. On the right hand side of the information page under “Analyze this sequence” click “Highlight Sequence Features”\n",
        "<img src= \"https://drive.google.com/uc?export=view&id=1S61yp8j9GAcZeQEcqpRtiMnLrmVUNzAk\" width=700px>\n",
        "\n",
        "7. Change the search format from “CDS” to “Exon” found at the bottom of the page.\n",
        "<img src= \"https://drive.google.com/uc?export=view&id=1g16lFUwfmF5Jed-isR4fy_rie2vp6KI0\" width=700px>\n",
        "\n",
        "8. Notice that the BRCA1 gene has 23 exons. For this module’s purposes, we want to obtain the exon 4 sequence to observe the origin of our target mutation, so click on the arrow to get to \"4\" at the bottom of the page.\n",
        "<img src= \"https://drive.google.com/uc?export=view&id=1oVZOi_8MOZY3Y6kr2ajSCGaj6_BVRKep\" width=700px>\n",
        "\n",
        "9. To retrieve the exon 4 sequence alone, click on the FASTA link on the bottom right, and you will get the exon 4 sequence in a format called FASTA.\n",
        "<img src=\"https://drive.google.com/uc?export=view&id=1RcMqRFk0X3G1RgJvKY5Ql2NsWRfC3GHz\" width=700px>\n",
        "\n",
        "<img src=\"https://drive.google.com/uc?export=view&id=1hUGDVXK0jAc0UrpNmZmz1stK7Ume-PRU\" width=700px>\n",
        "\n",
        "10. Since we need to ensure that our sequence is \"in-frame\" (i.e., we have the appropriate reading frame, which represents the sequence of codons that will be translated into the expected amino acid sequence), copy all of the nucleotides for exon 4 EXCEPT the first nucleotide, and paste the sequence below in the \"quotes\".  Notice that the sequence pasted onto 2 lines in the code cell; delete the space between the two lines to have your final sequence on a single line.\n"
      ]
    },
    {
      "cell_type": "code",
      "source": [
        "# Insert the Exon 4 DNA sequence retrieved from NCBI, EXCLUDING the first nucleotide, in between the quotation marks in the empty variable below\n",
        "wildtype_dna = \"\""
      ],
      "metadata": {
        "id": "DKZIVU-0EDoI"
      },
      "execution_count": null,
      "outputs": []
    }
  ]
}